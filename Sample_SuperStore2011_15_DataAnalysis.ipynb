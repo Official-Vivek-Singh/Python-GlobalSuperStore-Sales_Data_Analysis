{
 "cells": [
  {
   "cell_type": "markdown",
   "id": "5e580859-d631-41e7-ad48-050a0bbb435d",
   "metadata": {},
   "source": [
    "# GlobalSuperSales - Data Analysis¶"
   ]
  },
  {
   "cell_type": "markdown",
   "id": "b4f43228-7f24-41c9-94ec-97392605af8d",
   "metadata": {},
   "source": [
    "Data set Link : https://www.kaggle.com/code/tingray/global-superstore-eda\n",
    "\n",
    "GitHub Link : https://github.com/Official-Vivek-Singh?tab=repositories\n",
    "\n",
    "LinkedIn : https://www.linkedin.com/in/vivekvishwas/"
   ]
  },
  {
   "cell_type": "code",
   "execution_count": 83,
   "id": "4116b5eb-347c-4f27-a201-90c496e3c202",
   "metadata": {},
   "outputs": [],
   "source": [
    "#Importing libraries\n",
    "import pandas as pd\n",
    "\n",
    "import numpy as np\n",
    "\n",
    "import datetime as dt\n",
    "\n",
    "import matplotlib.pyplot as plt\n",
    "\n",
    "import seaborn as sns"
   ]
  },
  {
   "cell_type": "code",
   "execution_count": 66,
   "id": "aaefc39c-3fc4-49a3-a393-d43641f115e7",
   "metadata": {},
   "outputs": [
    {
     "name": "stdout",
     "output_type": "stream",
     "text": [
      "Float format Set-up Done !!\n"
     ]
    }
   ],
   "source": [
    "# setting the Float Data type display format\n",
    "\n",
    "pd.set_option('display.float_format', lambda x: '%.3f' %x)\n",
    "print('Float format Set-up Done !!')"
   ]
  },
  {
   "cell_type": "code",
   "execution_count": 4,
   "id": "c0d83cdc-03b6-42fb-a7c3-906d76e0ca08",
   "metadata": {},
   "outputs": [
    {
     "name": "stdout",
     "output_type": "stream",
     "text": [
      "Dataset loaded !!\n"
     ]
    }
   ],
   "source": [
    "# importing Dataset from local machine\n",
    "df= pd.read_csv('D:\\Vivek_Stuff\\Learning Stuff\\Python_Work\\Python Project\\superstore_dataset2011-2015.csv', encoding = 'ISO-8859-1')\n",
    "print('Dataset loaded !!')"
   ]
  },
  {
   "cell_type": "markdown",
   "id": "2c0a1ad5-298a-4f6f-9cce-8b56042b0158",
   "metadata": {},
   "source": [
    "# Show top 5 rows of your dataset¶"
   ]
  },
  {
   "cell_type": "code",
   "execution_count": 5,
   "id": "be99f4b5-b4f3-45cd-a242-5df00dd9eb87",
   "metadata": {},
   "outputs": [
    {
     "data": {
      "text/html": [
       "<div>\n",
       "<style scoped>\n",
       "    .dataframe tbody tr th:only-of-type {\n",
       "        vertical-align: middle;\n",
       "    }\n",
       "\n",
       "    .dataframe tbody tr th {\n",
       "        vertical-align: top;\n",
       "    }\n",
       "\n",
       "    .dataframe thead th {\n",
       "        text-align: right;\n",
       "    }\n",
       "</style>\n",
       "<table border=\"1\" class=\"dataframe\">\n",
       "  <thead>\n",
       "    <tr style=\"text-align: right;\">\n",
       "      <th></th>\n",
       "      <th>Row ID</th>\n",
       "      <th>Order ID</th>\n",
       "      <th>Order Date</th>\n",
       "      <th>Ship Date</th>\n",
       "      <th>Ship Mode</th>\n",
       "      <th>Customer ID</th>\n",
       "      <th>Customer Name</th>\n",
       "      <th>Segment</th>\n",
       "      <th>City</th>\n",
       "      <th>State</th>\n",
       "      <th>...</th>\n",
       "      <th>Product ID</th>\n",
       "      <th>Category</th>\n",
       "      <th>Sub-Category</th>\n",
       "      <th>Product Name</th>\n",
       "      <th>Sales</th>\n",
       "      <th>Quantity</th>\n",
       "      <th>Discount</th>\n",
       "      <th>Profit</th>\n",
       "      <th>Shipping Cost</th>\n",
       "      <th>Order Priority</th>\n",
       "    </tr>\n",
       "  </thead>\n",
       "  <tbody>\n",
       "    <tr>\n",
       "      <th>0</th>\n",
       "      <td>42433</td>\n",
       "      <td>AG-2011-2040</td>\n",
       "      <td>1/1/2011</td>\n",
       "      <td>6/1/2011</td>\n",
       "      <td>Standard Class</td>\n",
       "      <td>TB-11280</td>\n",
       "      <td>Toby Braunhardt</td>\n",
       "      <td>Consumer</td>\n",
       "      <td>Constantine</td>\n",
       "      <td>Constantine</td>\n",
       "      <td>...</td>\n",
       "      <td>OFF-TEN-10000025</td>\n",
       "      <td>Office Supplies</td>\n",
       "      <td>Storage</td>\n",
       "      <td>Tenex Lockers, Blue</td>\n",
       "      <td>408.300</td>\n",
       "      <td>2</td>\n",
       "      <td>0.0</td>\n",
       "      <td>106.140</td>\n",
       "      <td>35.46</td>\n",
       "      <td>Medium</td>\n",
       "    </tr>\n",
       "    <tr>\n",
       "      <th>1</th>\n",
       "      <td>22253</td>\n",
       "      <td>IN-2011-47883</td>\n",
       "      <td>1/1/2011</td>\n",
       "      <td>8/1/2011</td>\n",
       "      <td>Standard Class</td>\n",
       "      <td>JH-15985</td>\n",
       "      <td>Joseph Holt</td>\n",
       "      <td>Consumer</td>\n",
       "      <td>Wagga Wagga</td>\n",
       "      <td>New South Wales</td>\n",
       "      <td>...</td>\n",
       "      <td>OFF-SU-10000618</td>\n",
       "      <td>Office Supplies</td>\n",
       "      <td>Supplies</td>\n",
       "      <td>Acme Trimmer, High Speed</td>\n",
       "      <td>120.366</td>\n",
       "      <td>3</td>\n",
       "      <td>0.1</td>\n",
       "      <td>36.036</td>\n",
       "      <td>9.72</td>\n",
       "      <td>Medium</td>\n",
       "    </tr>\n",
       "    <tr>\n",
       "      <th>2</th>\n",
       "      <td>48883</td>\n",
       "      <td>HU-2011-1220</td>\n",
       "      <td>1/1/2011</td>\n",
       "      <td>5/1/2011</td>\n",
       "      <td>Second Class</td>\n",
       "      <td>AT-735</td>\n",
       "      <td>Annie Thurman</td>\n",
       "      <td>Consumer</td>\n",
       "      <td>Budapest</td>\n",
       "      <td>Budapest</td>\n",
       "      <td>...</td>\n",
       "      <td>OFF-TEN-10001585</td>\n",
       "      <td>Office Supplies</td>\n",
       "      <td>Storage</td>\n",
       "      <td>Tenex Box, Single Width</td>\n",
       "      <td>66.120</td>\n",
       "      <td>4</td>\n",
       "      <td>0.0</td>\n",
       "      <td>29.640</td>\n",
       "      <td>8.17</td>\n",
       "      <td>High</td>\n",
       "    </tr>\n",
       "    <tr>\n",
       "      <th>3</th>\n",
       "      <td>11731</td>\n",
       "      <td>IT-2011-3647632</td>\n",
       "      <td>1/1/2011</td>\n",
       "      <td>5/1/2011</td>\n",
       "      <td>Second Class</td>\n",
       "      <td>EM-14140</td>\n",
       "      <td>Eugene Moren</td>\n",
       "      <td>Home Office</td>\n",
       "      <td>Stockholm</td>\n",
       "      <td>Stockholm</td>\n",
       "      <td>...</td>\n",
       "      <td>OFF-PA-10001492</td>\n",
       "      <td>Office Supplies</td>\n",
       "      <td>Paper</td>\n",
       "      <td>Enermax Note Cards, Premium</td>\n",
       "      <td>44.865</td>\n",
       "      <td>3</td>\n",
       "      <td>0.5</td>\n",
       "      <td>-26.055</td>\n",
       "      <td>4.82</td>\n",
       "      <td>High</td>\n",
       "    </tr>\n",
       "    <tr>\n",
       "      <th>4</th>\n",
       "      <td>22255</td>\n",
       "      <td>IN-2011-47883</td>\n",
       "      <td>1/1/2011</td>\n",
       "      <td>8/1/2011</td>\n",
       "      <td>Standard Class</td>\n",
       "      <td>JH-15985</td>\n",
       "      <td>Joseph Holt</td>\n",
       "      <td>Consumer</td>\n",
       "      <td>Wagga Wagga</td>\n",
       "      <td>New South Wales</td>\n",
       "      <td>...</td>\n",
       "      <td>FUR-FU-10003447</td>\n",
       "      <td>Furniture</td>\n",
       "      <td>Furnishings</td>\n",
       "      <td>Eldon Light Bulb, Duo Pack</td>\n",
       "      <td>113.670</td>\n",
       "      <td>5</td>\n",
       "      <td>0.1</td>\n",
       "      <td>37.770</td>\n",
       "      <td>4.70</td>\n",
       "      <td>Medium</td>\n",
       "    </tr>\n",
       "  </tbody>\n",
       "</table>\n",
       "<p>5 rows × 24 columns</p>\n",
       "</div>"
      ],
      "text/plain": [
       "   Row ID         Order ID Order Date Ship Date       Ship Mode Customer ID  \\\n",
       "0   42433     AG-2011-2040   1/1/2011  6/1/2011  Standard Class    TB-11280   \n",
       "1   22253    IN-2011-47883   1/1/2011  8/1/2011  Standard Class    JH-15985   \n",
       "2   48883     HU-2011-1220   1/1/2011  5/1/2011    Second Class      AT-735   \n",
       "3   11731  IT-2011-3647632   1/1/2011  5/1/2011    Second Class    EM-14140   \n",
       "4   22255    IN-2011-47883   1/1/2011  8/1/2011  Standard Class    JH-15985   \n",
       "\n",
       "     Customer Name      Segment         City            State  ...  \\\n",
       "0  Toby Braunhardt     Consumer  Constantine      Constantine  ...   \n",
       "1      Joseph Holt     Consumer  Wagga Wagga  New South Wales  ...   \n",
       "2    Annie Thurman     Consumer     Budapest         Budapest  ...   \n",
       "3     Eugene Moren  Home Office    Stockholm        Stockholm  ...   \n",
       "4      Joseph Holt     Consumer  Wagga Wagga  New South Wales  ...   \n",
       "\n",
       "         Product ID         Category Sub-Category  \\\n",
       "0  OFF-TEN-10000025  Office Supplies      Storage   \n",
       "1   OFF-SU-10000618  Office Supplies     Supplies   \n",
       "2  OFF-TEN-10001585  Office Supplies      Storage   \n",
       "3   OFF-PA-10001492  Office Supplies        Paper   \n",
       "4   FUR-FU-10003447        Furniture  Furnishings   \n",
       "\n",
       "                  Product Name    Sales Quantity Discount   Profit  \\\n",
       "0          Tenex Lockers, Blue  408.300        2      0.0  106.140   \n",
       "1     Acme Trimmer, High Speed  120.366        3      0.1   36.036   \n",
       "2      Tenex Box, Single Width   66.120        4      0.0   29.640   \n",
       "3  Enermax Note Cards, Premium   44.865        3      0.5  -26.055   \n",
       "4   Eldon Light Bulb, Duo Pack  113.670        5      0.1   37.770   \n",
       "\n",
       "   Shipping Cost  Order Priority  \n",
       "0          35.46          Medium  \n",
       "1           9.72          Medium  \n",
       "2           8.17            High  \n",
       "3           4.82            High  \n",
       "4           4.70          Medium  \n",
       "\n",
       "[5 rows x 24 columns]"
      ]
     },
     "execution_count": 5,
     "metadata": {},
     "output_type": "execute_result"
    }
   ],
   "source": [
    "# .head() \n",
    "df.head()"
   ]
  },
  {
   "cell_type": "markdown",
   "id": "b64ecbb9-59ec-4308-97aa-fee5f8d54494",
   "metadata": {},
   "source": [
    "# Show last 5 rows of your dataset"
   ]
  },
  {
   "cell_type": "code",
   "execution_count": 6,
   "id": "f9d50b18-831d-42fd-a094-5de7d5c7a4c2",
   "metadata": {},
   "outputs": [
    {
     "data": {
      "text/html": [
       "<div>\n",
       "<style scoped>\n",
       "    .dataframe tbody tr th:only-of-type {\n",
       "        vertical-align: middle;\n",
       "    }\n",
       "\n",
       "    .dataframe tbody tr th {\n",
       "        vertical-align: top;\n",
       "    }\n",
       "\n",
       "    .dataframe thead th {\n",
       "        text-align: right;\n",
       "    }\n",
       "</style>\n",
       "<table border=\"1\" class=\"dataframe\">\n",
       "  <thead>\n",
       "    <tr style=\"text-align: right;\">\n",
       "      <th></th>\n",
       "      <th>Row ID</th>\n",
       "      <th>Order ID</th>\n",
       "      <th>Order Date</th>\n",
       "      <th>Ship Date</th>\n",
       "      <th>Ship Mode</th>\n",
       "      <th>Customer ID</th>\n",
       "      <th>Customer Name</th>\n",
       "      <th>Segment</th>\n",
       "      <th>City</th>\n",
       "      <th>State</th>\n",
       "      <th>...</th>\n",
       "      <th>Product ID</th>\n",
       "      <th>Category</th>\n",
       "      <th>Sub-Category</th>\n",
       "      <th>Product Name</th>\n",
       "      <th>Sales</th>\n",
       "      <th>Quantity</th>\n",
       "      <th>Discount</th>\n",
       "      <th>Profit</th>\n",
       "      <th>Shipping Cost</th>\n",
       "      <th>Order Priority</th>\n",
       "    </tr>\n",
       "  </thead>\n",
       "  <tbody>\n",
       "    <tr>\n",
       "      <th>51285</th>\n",
       "      <td>32593</td>\n",
       "      <td>CA-2014-115427</td>\n",
       "      <td>31-12-2014</td>\n",
       "      <td>4/1/2015</td>\n",
       "      <td>Standard Class</td>\n",
       "      <td>EB-13975</td>\n",
       "      <td>Erica Bern</td>\n",
       "      <td>Corporate</td>\n",
       "      <td>Fairfield</td>\n",
       "      <td>California</td>\n",
       "      <td>...</td>\n",
       "      <td>OFF-BI-10002103</td>\n",
       "      <td>Office Supplies</td>\n",
       "      <td>Binders</td>\n",
       "      <td>Cardinal Slant-D Ring Binder, Heavy Gauge Vinyl</td>\n",
       "      <td>13.904</td>\n",
       "      <td>2</td>\n",
       "      <td>0.2</td>\n",
       "      <td>4.5188</td>\n",
       "      <td>0.89</td>\n",
       "      <td>Medium</td>\n",
       "    </tr>\n",
       "    <tr>\n",
       "      <th>51286</th>\n",
       "      <td>47594</td>\n",
       "      <td>MO-2014-2560</td>\n",
       "      <td>31-12-2014</td>\n",
       "      <td>5/1/2015</td>\n",
       "      <td>Standard Class</td>\n",
       "      <td>LP-7095</td>\n",
       "      <td>Liz Preis</td>\n",
       "      <td>Consumer</td>\n",
       "      <td>Agadir</td>\n",
       "      <td>Souss-Massa-Draâ</td>\n",
       "      <td>...</td>\n",
       "      <td>OFF-WIL-10001069</td>\n",
       "      <td>Office Supplies</td>\n",
       "      <td>Binders</td>\n",
       "      <td>Wilson Jones Hole Reinforcements, Clear</td>\n",
       "      <td>3.990</td>\n",
       "      <td>1</td>\n",
       "      <td>0.0</td>\n",
       "      <td>0.4200</td>\n",
       "      <td>0.49</td>\n",
       "      <td>Medium</td>\n",
       "    </tr>\n",
       "    <tr>\n",
       "      <th>51287</th>\n",
       "      <td>8857</td>\n",
       "      <td>MX-2014-110527</td>\n",
       "      <td>31-12-2014</td>\n",
       "      <td>2/1/2015</td>\n",
       "      <td>Second Class</td>\n",
       "      <td>CM-12190</td>\n",
       "      <td>Charlotte Melton</td>\n",
       "      <td>Consumer</td>\n",
       "      <td>Managua</td>\n",
       "      <td>Managua</td>\n",
       "      <td>...</td>\n",
       "      <td>OFF-LA-10004182</td>\n",
       "      <td>Office Supplies</td>\n",
       "      <td>Labels</td>\n",
       "      <td>Hon Color Coded Labels, 5000 Label Set</td>\n",
       "      <td>26.400</td>\n",
       "      <td>3</td>\n",
       "      <td>0.0</td>\n",
       "      <td>12.3600</td>\n",
       "      <td>0.35</td>\n",
       "      <td>Medium</td>\n",
       "    </tr>\n",
       "    <tr>\n",
       "      <th>51288</th>\n",
       "      <td>6852</td>\n",
       "      <td>MX-2014-114783</td>\n",
       "      <td>31-12-2014</td>\n",
       "      <td>6/1/2015</td>\n",
       "      <td>Standard Class</td>\n",
       "      <td>TD-20995</td>\n",
       "      <td>Tamara Dahlen</td>\n",
       "      <td>Consumer</td>\n",
       "      <td>Juárez</td>\n",
       "      <td>Chihuahua</td>\n",
       "      <td>...</td>\n",
       "      <td>OFF-LA-10000413</td>\n",
       "      <td>Office Supplies</td>\n",
       "      <td>Labels</td>\n",
       "      <td>Hon Legal Exhibit Labels, Alphabetical</td>\n",
       "      <td>7.120</td>\n",
       "      <td>1</td>\n",
       "      <td>0.0</td>\n",
       "      <td>0.5600</td>\n",
       "      <td>0.20</td>\n",
       "      <td>Medium</td>\n",
       "    </tr>\n",
       "    <tr>\n",
       "      <th>51289</th>\n",
       "      <td>36388</td>\n",
       "      <td>CA-2014-156720</td>\n",
       "      <td>31-12-2014</td>\n",
       "      <td>4/1/2015</td>\n",
       "      <td>Standard Class</td>\n",
       "      <td>JM-15580</td>\n",
       "      <td>Jill Matthias</td>\n",
       "      <td>Consumer</td>\n",
       "      <td>Loveland</td>\n",
       "      <td>Colorado</td>\n",
       "      <td>...</td>\n",
       "      <td>OFF-FA-10003472</td>\n",
       "      <td>Office Supplies</td>\n",
       "      <td>Fasteners</td>\n",
       "      <td>Bagged Rubber Bands</td>\n",
       "      <td>3.024</td>\n",
       "      <td>3</td>\n",
       "      <td>0.2</td>\n",
       "      <td>-0.6048</td>\n",
       "      <td>0.17</td>\n",
       "      <td>Medium</td>\n",
       "    </tr>\n",
       "  </tbody>\n",
       "</table>\n",
       "<p>5 rows × 24 columns</p>\n",
       "</div>"
      ],
      "text/plain": [
       "       Row ID        Order ID  Order Date Ship Date       Ship Mode  \\\n",
       "51285   32593  CA-2014-115427  31-12-2014  4/1/2015  Standard Class   \n",
       "51286   47594    MO-2014-2560  31-12-2014  5/1/2015  Standard Class   \n",
       "51287    8857  MX-2014-110527  31-12-2014  2/1/2015    Second Class   \n",
       "51288    6852  MX-2014-114783  31-12-2014  6/1/2015  Standard Class   \n",
       "51289   36388  CA-2014-156720  31-12-2014  4/1/2015  Standard Class   \n",
       "\n",
       "      Customer ID     Customer Name    Segment       City             State  \\\n",
       "51285    EB-13975        Erica Bern  Corporate  Fairfield        California   \n",
       "51286     LP-7095         Liz Preis   Consumer     Agadir  Souss-Massa-Draâ   \n",
       "51287    CM-12190  Charlotte Melton   Consumer    Managua           Managua   \n",
       "51288    TD-20995     Tamara Dahlen   Consumer     Juárez         Chihuahua   \n",
       "51289    JM-15580     Jill Matthias   Consumer   Loveland          Colorado   \n",
       "\n",
       "       ...        Product ID         Category Sub-Category  \\\n",
       "51285  ...   OFF-BI-10002103  Office Supplies      Binders   \n",
       "51286  ...  OFF-WIL-10001069  Office Supplies      Binders   \n",
       "51287  ...   OFF-LA-10004182  Office Supplies       Labels   \n",
       "51288  ...   OFF-LA-10000413  Office Supplies       Labels   \n",
       "51289  ...   OFF-FA-10003472  Office Supplies    Fasteners   \n",
       "\n",
       "                                          Product Name   Sales Quantity  \\\n",
       "51285  Cardinal Slant-D Ring Binder, Heavy Gauge Vinyl  13.904        2   \n",
       "51286          Wilson Jones Hole Reinforcements, Clear   3.990        1   \n",
       "51287           Hon Color Coded Labels, 5000 Label Set  26.400        3   \n",
       "51288           Hon Legal Exhibit Labels, Alphabetical   7.120        1   \n",
       "51289                              Bagged Rubber Bands   3.024        3   \n",
       "\n",
       "      Discount   Profit  Shipping Cost  Order Priority  \n",
       "51285      0.2   4.5188           0.89          Medium  \n",
       "51286      0.0   0.4200           0.49          Medium  \n",
       "51287      0.0  12.3600           0.35          Medium  \n",
       "51288      0.0   0.5600           0.20          Medium  \n",
       "51289      0.2  -0.6048           0.17          Medium  \n",
       "\n",
       "[5 rows x 24 columns]"
      ]
     },
     "execution_count": 6,
     "metadata": {},
     "output_type": "execute_result"
    }
   ],
   "source": [
    "# Show Dataset last 5 Rows\n",
    "df.tail()"
   ]
  },
  {
   "cell_type": "code",
   "execution_count": null,
   "id": "ebabbdaf-2222-49d6-8198-f8084498817a",
   "metadata": {},
   "outputs": [],
   "source": []
  },
  {
   "cell_type": "markdown",
   "id": "63fe536a-b1d5-43d3-b2bb-bf4aa5f54765",
   "metadata": {},
   "source": [
    "# Show size of your dataset"
   ]
  },
  {
   "cell_type": "code",
   "execution_count": 7,
   "id": "0ddb18e3-e90e-477f-b38d-e856910ecb8a",
   "metadata": {},
   "outputs": [
    {
     "data": {
      "text/plain": [
       "(51290, 24)"
      ]
     },
     "execution_count": 7,
     "metadata": {},
     "output_type": "execute_result"
    }
   ],
   "source": [
    "df.shape\n",
    "\n",
    "# .shape is used to find the size of dataset"
   ]
  },
  {
   "cell_type": "raw",
   "id": "8361e907-5c93-4a4b-9e94-f2d170090da2",
   "metadata": {},
   "source": [
    "We can see that how dataset has 51,290 rows & 24 columns "
   ]
  },
  {
   "cell_type": "markdown",
   "id": "3fcf939e-0fd1-4167-bbf1-5804d5c92dfa",
   "metadata": {},
   "source": [
    "# Show Headers/Columns of your dataset"
   ]
  },
  {
   "cell_type": "code",
   "execution_count": 8,
   "id": "632e5d20-96b5-4211-95f2-616e539b35b6",
   "metadata": {},
   "outputs": [
    {
     "data": {
      "text/plain": [
       "Index(['Row ID', 'Order ID', 'Order Date', 'Ship Date', 'Ship Mode',\n",
       "       'Customer ID', 'Customer Name', 'Segment', 'City', 'State', 'Country',\n",
       "       'Postal Code', 'Market', 'Region', 'Product ID', 'Category',\n",
       "       'Sub-Category', 'Product Name', 'Sales', 'Quantity', 'Discount',\n",
       "       'Profit', 'Shipping Cost', 'Order Priority'],\n",
       "      dtype='object')"
      ]
     },
     "execution_count": 8,
     "metadata": {},
     "output_type": "execute_result"
    }
   ],
   "source": [
    "df.columns\n",
    "\n",
    "# .columns returns the headers of Dataset"
   ]
  },
  {
   "cell_type": "markdown",
   "id": "d2b3f8cc-4b7e-4d46-ae75-d58e6333054d",
   "metadata": {},
   "source": [
    "# Show All information of your dataset"
   ]
  },
  {
   "cell_type": "code",
   "execution_count": 9,
   "id": "70661ba6-261a-40e9-8a7e-4444dfa47636",
   "metadata": {},
   "outputs": [
    {
     "name": "stdout",
     "output_type": "stream",
     "text": [
      "<class 'pandas.core.frame.DataFrame'>\n",
      "RangeIndex: 51290 entries, 0 to 51289\n",
      "Data columns (total 24 columns):\n",
      " #   Column          Non-Null Count  Dtype  \n",
      "---  ------          --------------  -----  \n",
      " 0   Row ID          51290 non-null  int64  \n",
      " 1   Order ID        51290 non-null  object \n",
      " 2   Order Date      51290 non-null  object \n",
      " 3   Ship Date       51290 non-null  object \n",
      " 4   Ship Mode       51290 non-null  object \n",
      " 5   Customer ID     51290 non-null  object \n",
      " 6   Customer Name   51290 non-null  object \n",
      " 7   Segment         51290 non-null  object \n",
      " 8   City            51290 non-null  object \n",
      " 9   State           51290 non-null  object \n",
      " 10  Country         51290 non-null  object \n",
      " 11  Postal Code     9994 non-null   float64\n",
      " 12  Market          51290 non-null  object \n",
      " 13  Region          51290 non-null  object \n",
      " 14  Product ID      51290 non-null  object \n",
      " 15  Category        51290 non-null  object \n",
      " 16  Sub-Category    51290 non-null  object \n",
      " 17  Product Name    51290 non-null  object \n",
      " 18  Sales           51290 non-null  float64\n",
      " 19  Quantity        51290 non-null  int64  \n",
      " 20  Discount        51290 non-null  float64\n",
      " 21  Profit          51290 non-null  float64\n",
      " 22  Shipping Cost   51290 non-null  float64\n",
      " 23  Order Priority  51290 non-null  object \n",
      "dtypes: float64(5), int64(2), object(17)\n",
      "memory usage: 9.4+ MB\n"
     ]
    }
   ],
   "source": [
    "df.info()\n",
    "\n",
    "# .info() returnt the complete information of dataset , it returns the column wise Total value count, datatype etc.."
   ]
  },
  {
   "cell_type": "markdown",
   "id": "4fa089dd-5d1e-42e2-abe4-b1e21e3a60f3",
   "metadata": {},
   "source": [
    "# Show Null/Missing Values of your dataset"
   ]
  },
  {
   "cell_type": "code",
   "execution_count": 10,
   "id": "f6762c47-7b7e-4352-b595-ce1322519d61",
   "metadata": {},
   "outputs": [
    {
     "data": {
      "text/html": [
       "<div>\n",
       "<style scoped>\n",
       "    .dataframe tbody tr th:only-of-type {\n",
       "        vertical-align: middle;\n",
       "    }\n",
       "\n",
       "    .dataframe tbody tr th {\n",
       "        vertical-align: top;\n",
       "    }\n",
       "\n",
       "    .dataframe thead th {\n",
       "        text-align: right;\n",
       "    }\n",
       "</style>\n",
       "<table border=\"1\" class=\"dataframe\">\n",
       "  <thead>\n",
       "    <tr style=\"text-align: right;\">\n",
       "      <th></th>\n",
       "      <th>Row ID</th>\n",
       "      <th>Order ID</th>\n",
       "      <th>Order Date</th>\n",
       "      <th>Ship Date</th>\n",
       "      <th>Ship Mode</th>\n",
       "      <th>Customer ID</th>\n",
       "      <th>Customer Name</th>\n",
       "      <th>Segment</th>\n",
       "      <th>City</th>\n",
       "      <th>State</th>\n",
       "      <th>...</th>\n",
       "      <th>Product ID</th>\n",
       "      <th>Category</th>\n",
       "      <th>Sub-Category</th>\n",
       "      <th>Product Name</th>\n",
       "      <th>Sales</th>\n",
       "      <th>Quantity</th>\n",
       "      <th>Discount</th>\n",
       "      <th>Profit</th>\n",
       "      <th>Shipping Cost</th>\n",
       "      <th>Order Priority</th>\n",
       "    </tr>\n",
       "  </thead>\n",
       "  <tbody>\n",
       "    <tr>\n",
       "      <th>0</th>\n",
       "      <td>False</td>\n",
       "      <td>False</td>\n",
       "      <td>False</td>\n",
       "      <td>False</td>\n",
       "      <td>False</td>\n",
       "      <td>False</td>\n",
       "      <td>False</td>\n",
       "      <td>False</td>\n",
       "      <td>False</td>\n",
       "      <td>False</td>\n",
       "      <td>...</td>\n",
       "      <td>False</td>\n",
       "      <td>False</td>\n",
       "      <td>False</td>\n",
       "      <td>False</td>\n",
       "      <td>False</td>\n",
       "      <td>False</td>\n",
       "      <td>False</td>\n",
       "      <td>False</td>\n",
       "      <td>False</td>\n",
       "      <td>False</td>\n",
       "    </tr>\n",
       "    <tr>\n",
       "      <th>1</th>\n",
       "      <td>False</td>\n",
       "      <td>False</td>\n",
       "      <td>False</td>\n",
       "      <td>False</td>\n",
       "      <td>False</td>\n",
       "      <td>False</td>\n",
       "      <td>False</td>\n",
       "      <td>False</td>\n",
       "      <td>False</td>\n",
       "      <td>False</td>\n",
       "      <td>...</td>\n",
       "      <td>False</td>\n",
       "      <td>False</td>\n",
       "      <td>False</td>\n",
       "      <td>False</td>\n",
       "      <td>False</td>\n",
       "      <td>False</td>\n",
       "      <td>False</td>\n",
       "      <td>False</td>\n",
       "      <td>False</td>\n",
       "      <td>False</td>\n",
       "    </tr>\n",
       "    <tr>\n",
       "      <th>2</th>\n",
       "      <td>False</td>\n",
       "      <td>False</td>\n",
       "      <td>False</td>\n",
       "      <td>False</td>\n",
       "      <td>False</td>\n",
       "      <td>False</td>\n",
       "      <td>False</td>\n",
       "      <td>False</td>\n",
       "      <td>False</td>\n",
       "      <td>False</td>\n",
       "      <td>...</td>\n",
       "      <td>False</td>\n",
       "      <td>False</td>\n",
       "      <td>False</td>\n",
       "      <td>False</td>\n",
       "      <td>False</td>\n",
       "      <td>False</td>\n",
       "      <td>False</td>\n",
       "      <td>False</td>\n",
       "      <td>False</td>\n",
       "      <td>False</td>\n",
       "    </tr>\n",
       "    <tr>\n",
       "      <th>3</th>\n",
       "      <td>False</td>\n",
       "      <td>False</td>\n",
       "      <td>False</td>\n",
       "      <td>False</td>\n",
       "      <td>False</td>\n",
       "      <td>False</td>\n",
       "      <td>False</td>\n",
       "      <td>False</td>\n",
       "      <td>False</td>\n",
       "      <td>False</td>\n",
       "      <td>...</td>\n",
       "      <td>False</td>\n",
       "      <td>False</td>\n",
       "      <td>False</td>\n",
       "      <td>False</td>\n",
       "      <td>False</td>\n",
       "      <td>False</td>\n",
       "      <td>False</td>\n",
       "      <td>False</td>\n",
       "      <td>False</td>\n",
       "      <td>False</td>\n",
       "    </tr>\n",
       "    <tr>\n",
       "      <th>4</th>\n",
       "      <td>False</td>\n",
       "      <td>False</td>\n",
       "      <td>False</td>\n",
       "      <td>False</td>\n",
       "      <td>False</td>\n",
       "      <td>False</td>\n",
       "      <td>False</td>\n",
       "      <td>False</td>\n",
       "      <td>False</td>\n",
       "      <td>False</td>\n",
       "      <td>...</td>\n",
       "      <td>False</td>\n",
       "      <td>False</td>\n",
       "      <td>False</td>\n",
       "      <td>False</td>\n",
       "      <td>False</td>\n",
       "      <td>False</td>\n",
       "      <td>False</td>\n",
       "      <td>False</td>\n",
       "      <td>False</td>\n",
       "      <td>False</td>\n",
       "    </tr>\n",
       "    <tr>\n",
       "      <th>...</th>\n",
       "      <td>...</td>\n",
       "      <td>...</td>\n",
       "      <td>...</td>\n",
       "      <td>...</td>\n",
       "      <td>...</td>\n",
       "      <td>...</td>\n",
       "      <td>...</td>\n",
       "      <td>...</td>\n",
       "      <td>...</td>\n",
       "      <td>...</td>\n",
       "      <td>...</td>\n",
       "      <td>...</td>\n",
       "      <td>...</td>\n",
       "      <td>...</td>\n",
       "      <td>...</td>\n",
       "      <td>...</td>\n",
       "      <td>...</td>\n",
       "      <td>...</td>\n",
       "      <td>...</td>\n",
       "      <td>...</td>\n",
       "      <td>...</td>\n",
       "    </tr>\n",
       "    <tr>\n",
       "      <th>51285</th>\n",
       "      <td>False</td>\n",
       "      <td>False</td>\n",
       "      <td>False</td>\n",
       "      <td>False</td>\n",
       "      <td>False</td>\n",
       "      <td>False</td>\n",
       "      <td>False</td>\n",
       "      <td>False</td>\n",
       "      <td>False</td>\n",
       "      <td>False</td>\n",
       "      <td>...</td>\n",
       "      <td>False</td>\n",
       "      <td>False</td>\n",
       "      <td>False</td>\n",
       "      <td>False</td>\n",
       "      <td>False</td>\n",
       "      <td>False</td>\n",
       "      <td>False</td>\n",
       "      <td>False</td>\n",
       "      <td>False</td>\n",
       "      <td>False</td>\n",
       "    </tr>\n",
       "    <tr>\n",
       "      <th>51286</th>\n",
       "      <td>False</td>\n",
       "      <td>False</td>\n",
       "      <td>False</td>\n",
       "      <td>False</td>\n",
       "      <td>False</td>\n",
       "      <td>False</td>\n",
       "      <td>False</td>\n",
       "      <td>False</td>\n",
       "      <td>False</td>\n",
       "      <td>False</td>\n",
       "      <td>...</td>\n",
       "      <td>False</td>\n",
       "      <td>False</td>\n",
       "      <td>False</td>\n",
       "      <td>False</td>\n",
       "      <td>False</td>\n",
       "      <td>False</td>\n",
       "      <td>False</td>\n",
       "      <td>False</td>\n",
       "      <td>False</td>\n",
       "      <td>False</td>\n",
       "    </tr>\n",
       "    <tr>\n",
       "      <th>51287</th>\n",
       "      <td>False</td>\n",
       "      <td>False</td>\n",
       "      <td>False</td>\n",
       "      <td>False</td>\n",
       "      <td>False</td>\n",
       "      <td>False</td>\n",
       "      <td>False</td>\n",
       "      <td>False</td>\n",
       "      <td>False</td>\n",
       "      <td>False</td>\n",
       "      <td>...</td>\n",
       "      <td>False</td>\n",
       "      <td>False</td>\n",
       "      <td>False</td>\n",
       "      <td>False</td>\n",
       "      <td>False</td>\n",
       "      <td>False</td>\n",
       "      <td>False</td>\n",
       "      <td>False</td>\n",
       "      <td>False</td>\n",
       "      <td>False</td>\n",
       "    </tr>\n",
       "    <tr>\n",
       "      <th>51288</th>\n",
       "      <td>False</td>\n",
       "      <td>False</td>\n",
       "      <td>False</td>\n",
       "      <td>False</td>\n",
       "      <td>False</td>\n",
       "      <td>False</td>\n",
       "      <td>False</td>\n",
       "      <td>False</td>\n",
       "      <td>False</td>\n",
       "      <td>False</td>\n",
       "      <td>...</td>\n",
       "      <td>False</td>\n",
       "      <td>False</td>\n",
       "      <td>False</td>\n",
       "      <td>False</td>\n",
       "      <td>False</td>\n",
       "      <td>False</td>\n",
       "      <td>False</td>\n",
       "      <td>False</td>\n",
       "      <td>False</td>\n",
       "      <td>False</td>\n",
       "    </tr>\n",
       "    <tr>\n",
       "      <th>51289</th>\n",
       "      <td>False</td>\n",
       "      <td>False</td>\n",
       "      <td>False</td>\n",
       "      <td>False</td>\n",
       "      <td>False</td>\n",
       "      <td>False</td>\n",
       "      <td>False</td>\n",
       "      <td>False</td>\n",
       "      <td>False</td>\n",
       "      <td>False</td>\n",
       "      <td>...</td>\n",
       "      <td>False</td>\n",
       "      <td>False</td>\n",
       "      <td>False</td>\n",
       "      <td>False</td>\n",
       "      <td>False</td>\n",
       "      <td>False</td>\n",
       "      <td>False</td>\n",
       "      <td>False</td>\n",
       "      <td>False</td>\n",
       "      <td>False</td>\n",
       "    </tr>\n",
       "  </tbody>\n",
       "</table>\n",
       "<p>51290 rows × 24 columns</p>\n",
       "</div>"
      ],
      "text/plain": [
       "       Row ID  Order ID  Order Date  Ship Date  Ship Mode  Customer ID  \\\n",
       "0       False     False       False      False      False        False   \n",
       "1       False     False       False      False      False        False   \n",
       "2       False     False       False      False      False        False   \n",
       "3       False     False       False      False      False        False   \n",
       "4       False     False       False      False      False        False   \n",
       "...       ...       ...         ...        ...        ...          ...   \n",
       "51285   False     False       False      False      False        False   \n",
       "51286   False     False       False      False      False        False   \n",
       "51287   False     False       False      False      False        False   \n",
       "51288   False     False       False      False      False        False   \n",
       "51289   False     False       False      False      False        False   \n",
       "\n",
       "       Customer Name  Segment   City  State  ...  Product ID  Category  \\\n",
       "0              False    False  False  False  ...       False     False   \n",
       "1              False    False  False  False  ...       False     False   \n",
       "2              False    False  False  False  ...       False     False   \n",
       "3              False    False  False  False  ...       False     False   \n",
       "4              False    False  False  False  ...       False     False   \n",
       "...              ...      ...    ...    ...  ...         ...       ...   \n",
       "51285          False    False  False  False  ...       False     False   \n",
       "51286          False    False  False  False  ...       False     False   \n",
       "51287          False    False  False  False  ...       False     False   \n",
       "51288          False    False  False  False  ...       False     False   \n",
       "51289          False    False  False  False  ...       False     False   \n",
       "\n",
       "       Sub-Category  Product Name  Sales  Quantity  Discount  Profit  \\\n",
       "0             False         False  False     False     False   False   \n",
       "1             False         False  False     False     False   False   \n",
       "2             False         False  False     False     False   False   \n",
       "3             False         False  False     False     False   False   \n",
       "4             False         False  False     False     False   False   \n",
       "...             ...           ...    ...       ...       ...     ...   \n",
       "51285         False         False  False     False     False   False   \n",
       "51286         False         False  False     False     False   False   \n",
       "51287         False         False  False     False     False   False   \n",
       "51288         False         False  False     False     False   False   \n",
       "51289         False         False  False     False     False   False   \n",
       "\n",
       "       Shipping Cost  Order Priority  \n",
       "0              False           False  \n",
       "1              False           False  \n",
       "2              False           False  \n",
       "3              False           False  \n",
       "4              False           False  \n",
       "...              ...             ...  \n",
       "51285          False           False  \n",
       "51286          False           False  \n",
       "51287          False           False  \n",
       "51288          False           False  \n",
       "51289          False           False  \n",
       "\n",
       "[51290 rows x 24 columns]"
      ]
     },
     "execution_count": 10,
     "metadata": {},
     "output_type": "execute_result"
    }
   ],
   "source": [
    "df.isnull()\n",
    "df.isna()\n",
    "\n",
    "# isna() and isnull() both returns the True/False "
   ]
  },
  {
   "cell_type": "code",
   "execution_count": 11,
   "id": "155adfa5-f228-49d2-952e-6d8072ed6b43",
   "metadata": {},
   "outputs": [
    {
     "data": {
      "text/html": [
       "<div>\n",
       "<style scoped>\n",
       "    .dataframe tbody tr th:only-of-type {\n",
       "        vertical-align: middle;\n",
       "    }\n",
       "\n",
       "    .dataframe tbody tr th {\n",
       "        vertical-align: top;\n",
       "    }\n",
       "\n",
       "    .dataframe thead th {\n",
       "        text-align: right;\n",
       "    }\n",
       "</style>\n",
       "<table border=\"1\" class=\"dataframe\">\n",
       "  <thead>\n",
       "    <tr style=\"text-align: right;\">\n",
       "      <th></th>\n",
       "      <th>Row ID</th>\n",
       "      <th>Order ID</th>\n",
       "      <th>Order Date</th>\n",
       "      <th>Ship Date</th>\n",
       "      <th>Ship Mode</th>\n",
       "      <th>Customer ID</th>\n",
       "      <th>Customer Name</th>\n",
       "      <th>Segment</th>\n",
       "      <th>City</th>\n",
       "      <th>State</th>\n",
       "      <th>...</th>\n",
       "      <th>Product ID</th>\n",
       "      <th>Category</th>\n",
       "      <th>Sub-Category</th>\n",
       "      <th>Product Name</th>\n",
       "      <th>Sales</th>\n",
       "      <th>Quantity</th>\n",
       "      <th>Discount</th>\n",
       "      <th>Profit</th>\n",
       "      <th>Shipping Cost</th>\n",
       "      <th>Order Priority</th>\n",
       "    </tr>\n",
       "  </thead>\n",
       "  <tbody>\n",
       "    <tr>\n",
       "      <th>0</th>\n",
       "      <td>False</td>\n",
       "      <td>False</td>\n",
       "      <td>False</td>\n",
       "      <td>False</td>\n",
       "      <td>False</td>\n",
       "      <td>False</td>\n",
       "      <td>False</td>\n",
       "      <td>False</td>\n",
       "      <td>False</td>\n",
       "      <td>False</td>\n",
       "      <td>...</td>\n",
       "      <td>False</td>\n",
       "      <td>False</td>\n",
       "      <td>False</td>\n",
       "      <td>False</td>\n",
       "      <td>False</td>\n",
       "      <td>False</td>\n",
       "      <td>False</td>\n",
       "      <td>False</td>\n",
       "      <td>False</td>\n",
       "      <td>False</td>\n",
       "    </tr>\n",
       "    <tr>\n",
       "      <th>1</th>\n",
       "      <td>False</td>\n",
       "      <td>False</td>\n",
       "      <td>False</td>\n",
       "      <td>False</td>\n",
       "      <td>False</td>\n",
       "      <td>False</td>\n",
       "      <td>False</td>\n",
       "      <td>False</td>\n",
       "      <td>False</td>\n",
       "      <td>False</td>\n",
       "      <td>...</td>\n",
       "      <td>False</td>\n",
       "      <td>False</td>\n",
       "      <td>False</td>\n",
       "      <td>False</td>\n",
       "      <td>False</td>\n",
       "      <td>False</td>\n",
       "      <td>False</td>\n",
       "      <td>False</td>\n",
       "      <td>False</td>\n",
       "      <td>False</td>\n",
       "    </tr>\n",
       "    <tr>\n",
       "      <th>2</th>\n",
       "      <td>False</td>\n",
       "      <td>False</td>\n",
       "      <td>False</td>\n",
       "      <td>False</td>\n",
       "      <td>False</td>\n",
       "      <td>False</td>\n",
       "      <td>False</td>\n",
       "      <td>False</td>\n",
       "      <td>False</td>\n",
       "      <td>False</td>\n",
       "      <td>...</td>\n",
       "      <td>False</td>\n",
       "      <td>False</td>\n",
       "      <td>False</td>\n",
       "      <td>False</td>\n",
       "      <td>False</td>\n",
       "      <td>False</td>\n",
       "      <td>False</td>\n",
       "      <td>False</td>\n",
       "      <td>False</td>\n",
       "      <td>False</td>\n",
       "    </tr>\n",
       "    <tr>\n",
       "      <th>3</th>\n",
       "      <td>False</td>\n",
       "      <td>False</td>\n",
       "      <td>False</td>\n",
       "      <td>False</td>\n",
       "      <td>False</td>\n",
       "      <td>False</td>\n",
       "      <td>False</td>\n",
       "      <td>False</td>\n",
       "      <td>False</td>\n",
       "      <td>False</td>\n",
       "      <td>...</td>\n",
       "      <td>False</td>\n",
       "      <td>False</td>\n",
       "      <td>False</td>\n",
       "      <td>False</td>\n",
       "      <td>False</td>\n",
       "      <td>False</td>\n",
       "      <td>False</td>\n",
       "      <td>False</td>\n",
       "      <td>False</td>\n",
       "      <td>False</td>\n",
       "    </tr>\n",
       "    <tr>\n",
       "      <th>4</th>\n",
       "      <td>False</td>\n",
       "      <td>False</td>\n",
       "      <td>False</td>\n",
       "      <td>False</td>\n",
       "      <td>False</td>\n",
       "      <td>False</td>\n",
       "      <td>False</td>\n",
       "      <td>False</td>\n",
       "      <td>False</td>\n",
       "      <td>False</td>\n",
       "      <td>...</td>\n",
       "      <td>False</td>\n",
       "      <td>False</td>\n",
       "      <td>False</td>\n",
       "      <td>False</td>\n",
       "      <td>False</td>\n",
       "      <td>False</td>\n",
       "      <td>False</td>\n",
       "      <td>False</td>\n",
       "      <td>False</td>\n",
       "      <td>False</td>\n",
       "    </tr>\n",
       "    <tr>\n",
       "      <th>...</th>\n",
       "      <td>...</td>\n",
       "      <td>...</td>\n",
       "      <td>...</td>\n",
       "      <td>...</td>\n",
       "      <td>...</td>\n",
       "      <td>...</td>\n",
       "      <td>...</td>\n",
       "      <td>...</td>\n",
       "      <td>...</td>\n",
       "      <td>...</td>\n",
       "      <td>...</td>\n",
       "      <td>...</td>\n",
       "      <td>...</td>\n",
       "      <td>...</td>\n",
       "      <td>...</td>\n",
       "      <td>...</td>\n",
       "      <td>...</td>\n",
       "      <td>...</td>\n",
       "      <td>...</td>\n",
       "      <td>...</td>\n",
       "      <td>...</td>\n",
       "    </tr>\n",
       "    <tr>\n",
       "      <th>51285</th>\n",
       "      <td>False</td>\n",
       "      <td>False</td>\n",
       "      <td>False</td>\n",
       "      <td>False</td>\n",
       "      <td>False</td>\n",
       "      <td>False</td>\n",
       "      <td>False</td>\n",
       "      <td>False</td>\n",
       "      <td>False</td>\n",
       "      <td>False</td>\n",
       "      <td>...</td>\n",
       "      <td>False</td>\n",
       "      <td>False</td>\n",
       "      <td>False</td>\n",
       "      <td>False</td>\n",
       "      <td>False</td>\n",
       "      <td>False</td>\n",
       "      <td>False</td>\n",
       "      <td>False</td>\n",
       "      <td>False</td>\n",
       "      <td>False</td>\n",
       "    </tr>\n",
       "    <tr>\n",
       "      <th>51286</th>\n",
       "      <td>False</td>\n",
       "      <td>False</td>\n",
       "      <td>False</td>\n",
       "      <td>False</td>\n",
       "      <td>False</td>\n",
       "      <td>False</td>\n",
       "      <td>False</td>\n",
       "      <td>False</td>\n",
       "      <td>False</td>\n",
       "      <td>False</td>\n",
       "      <td>...</td>\n",
       "      <td>False</td>\n",
       "      <td>False</td>\n",
       "      <td>False</td>\n",
       "      <td>False</td>\n",
       "      <td>False</td>\n",
       "      <td>False</td>\n",
       "      <td>False</td>\n",
       "      <td>False</td>\n",
       "      <td>False</td>\n",
       "      <td>False</td>\n",
       "    </tr>\n",
       "    <tr>\n",
       "      <th>51287</th>\n",
       "      <td>False</td>\n",
       "      <td>False</td>\n",
       "      <td>False</td>\n",
       "      <td>False</td>\n",
       "      <td>False</td>\n",
       "      <td>False</td>\n",
       "      <td>False</td>\n",
       "      <td>False</td>\n",
       "      <td>False</td>\n",
       "      <td>False</td>\n",
       "      <td>...</td>\n",
       "      <td>False</td>\n",
       "      <td>False</td>\n",
       "      <td>False</td>\n",
       "      <td>False</td>\n",
       "      <td>False</td>\n",
       "      <td>False</td>\n",
       "      <td>False</td>\n",
       "      <td>False</td>\n",
       "      <td>False</td>\n",
       "      <td>False</td>\n",
       "    </tr>\n",
       "    <tr>\n",
       "      <th>51288</th>\n",
       "      <td>False</td>\n",
       "      <td>False</td>\n",
       "      <td>False</td>\n",
       "      <td>False</td>\n",
       "      <td>False</td>\n",
       "      <td>False</td>\n",
       "      <td>False</td>\n",
       "      <td>False</td>\n",
       "      <td>False</td>\n",
       "      <td>False</td>\n",
       "      <td>...</td>\n",
       "      <td>False</td>\n",
       "      <td>False</td>\n",
       "      <td>False</td>\n",
       "      <td>False</td>\n",
       "      <td>False</td>\n",
       "      <td>False</td>\n",
       "      <td>False</td>\n",
       "      <td>False</td>\n",
       "      <td>False</td>\n",
       "      <td>False</td>\n",
       "    </tr>\n",
       "    <tr>\n",
       "      <th>51289</th>\n",
       "      <td>False</td>\n",
       "      <td>False</td>\n",
       "      <td>False</td>\n",
       "      <td>False</td>\n",
       "      <td>False</td>\n",
       "      <td>False</td>\n",
       "      <td>False</td>\n",
       "      <td>False</td>\n",
       "      <td>False</td>\n",
       "      <td>False</td>\n",
       "      <td>...</td>\n",
       "      <td>False</td>\n",
       "      <td>False</td>\n",
       "      <td>False</td>\n",
       "      <td>False</td>\n",
       "      <td>False</td>\n",
       "      <td>False</td>\n",
       "      <td>False</td>\n",
       "      <td>False</td>\n",
       "      <td>False</td>\n",
       "      <td>False</td>\n",
       "    </tr>\n",
       "  </tbody>\n",
       "</table>\n",
       "<p>51290 rows × 24 columns</p>\n",
       "</div>"
      ],
      "text/plain": [
       "       Row ID  Order ID  Order Date  Ship Date  Ship Mode  Customer ID  \\\n",
       "0       False     False       False      False      False        False   \n",
       "1       False     False       False      False      False        False   \n",
       "2       False     False       False      False      False        False   \n",
       "3       False     False       False      False      False        False   \n",
       "4       False     False       False      False      False        False   \n",
       "...       ...       ...         ...        ...        ...          ...   \n",
       "51285   False     False       False      False      False        False   \n",
       "51286   False     False       False      False      False        False   \n",
       "51287   False     False       False      False      False        False   \n",
       "51288   False     False       False      False      False        False   \n",
       "51289   False     False       False      False      False        False   \n",
       "\n",
       "       Customer Name  Segment   City  State  ...  Product ID  Category  \\\n",
       "0              False    False  False  False  ...       False     False   \n",
       "1              False    False  False  False  ...       False     False   \n",
       "2              False    False  False  False  ...       False     False   \n",
       "3              False    False  False  False  ...       False     False   \n",
       "4              False    False  False  False  ...       False     False   \n",
       "...              ...      ...    ...    ...  ...         ...       ...   \n",
       "51285          False    False  False  False  ...       False     False   \n",
       "51286          False    False  False  False  ...       False     False   \n",
       "51287          False    False  False  False  ...       False     False   \n",
       "51288          False    False  False  False  ...       False     False   \n",
       "51289          False    False  False  False  ...       False     False   \n",
       "\n",
       "       Sub-Category  Product Name  Sales  Quantity  Discount  Profit  \\\n",
       "0             False         False  False     False     False   False   \n",
       "1             False         False  False     False     False   False   \n",
       "2             False         False  False     False     False   False   \n",
       "3             False         False  False     False     False   False   \n",
       "4             False         False  False     False     False   False   \n",
       "...             ...           ...    ...       ...       ...     ...   \n",
       "51285         False         False  False     False     False   False   \n",
       "51286         False         False  False     False     False   False   \n",
       "51287         False         False  False     False     False   False   \n",
       "51288         False         False  False     False     False   False   \n",
       "51289         False         False  False     False     False   False   \n",
       "\n",
       "       Shipping Cost  Order Priority  \n",
       "0              False           False  \n",
       "1              False           False  \n",
       "2              False           False  \n",
       "3              False           False  \n",
       "4              False           False  \n",
       "...              ...             ...  \n",
       "51285          False           False  \n",
       "51286          False           False  \n",
       "51287          False           False  \n",
       "51288          False           False  \n",
       "51289          False           False  \n",
       "\n",
       "[51290 rows x 24 columns]"
      ]
     },
     "execution_count": 11,
     "metadata": {},
     "output_type": "execute_result"
    }
   ],
   "source": [
    "df.isna()\n",
    "\n",
    "# .isna() returnt he Null status in True/False"
   ]
  },
  {
   "cell_type": "markdown",
   "id": "40fb40ef-52bd-4cc0-b4c3-8369d8b717cf",
   "metadata": {},
   "source": [
    "# Show Count of Missing/Null Values of your dataset"
   ]
  },
  {
   "cell_type": "code",
   "execution_count": 12,
   "id": "ab95324f-1aca-4c5f-acdd-5079cce49491",
   "metadata": {},
   "outputs": [
    {
     "data": {
      "text/plain": [
       "Row ID                0\n",
       "Order ID              0\n",
       "Order Date            0\n",
       "Ship Date             0\n",
       "Ship Mode             0\n",
       "Customer ID           0\n",
       "Customer Name         0\n",
       "Segment               0\n",
       "City                  0\n",
       "State                 0\n",
       "Country               0\n",
       "Postal Code       41296\n",
       "Market                0\n",
       "Region                0\n",
       "Product ID            0\n",
       "Category              0\n",
       "Sub-Category          0\n",
       "Product Name          0\n",
       "Sales                 0\n",
       "Quantity              0\n",
       "Discount              0\n",
       "Profit                0\n",
       "Shipping Cost         0\n",
       "Order Priority        0\n",
       "dtype: int64"
      ]
     },
     "execution_count": 12,
     "metadata": {},
     "output_type": "execute_result"
    }
   ],
   "source": [
    "df.isnull().sum()\n",
    "\n",
    "# .sum() to add the value ..."
   ]
  },
  {
   "cell_type": "markdown",
   "id": "98f92568-6408-4483-acb7-cef1ce22acf3",
   "metadata": {},
   "source": [
    "# Percenteage of Missing Value in Each Column"
   ]
  },
  {
   "cell_type": "code",
   "execution_count": 14,
   "id": "ea2556ab-e9dc-42f8-a0a9-3dced1cd3bf7",
   "metadata": {},
   "outputs": [
    {
     "data": {
      "text/plain": [
       "Row ID             0.00000\n",
       "Order ID           0.00000\n",
       "Order Date         0.00000\n",
       "Ship Date          0.00000\n",
       "Ship Mode          0.00000\n",
       "Customer ID        0.00000\n",
       "Customer Name      0.00000\n",
       "Segment            0.00000\n",
       "City               0.00000\n",
       "State              0.00000\n",
       "Country            0.00000\n",
       "Postal Code       80.51472\n",
       "Market             0.00000\n",
       "Region             0.00000\n",
       "Product ID         0.00000\n",
       "Category           0.00000\n",
       "Sub-Category       0.00000\n",
       "Product Name       0.00000\n",
       "Sales              0.00000\n",
       "Quantity           0.00000\n",
       "Discount           0.00000\n",
       "Profit             0.00000\n",
       "Shipping Cost      0.00000\n",
       "Order Priority     0.00000\n",
       "dtype: float64"
      ]
     },
     "execution_count": 14,
     "metadata": {},
     "output_type": "execute_result"
    }
   ],
   "source": [
    "## Percenteage of Missing Value in Each Column\n",
    "(df.isna().sum() / df.shape[0]) * 100"
   ]
  },
  {
   "cell_type": "markdown",
   "id": "11f25cef-9ec7-4694-b3cc-a75d18d467b7",
   "metadata": {},
   "source": [
    "## Show Over ALl Stastistics of your dataset\n"
   ]
  },
  {
   "cell_type": "code",
   "execution_count": 15,
   "id": "b4d69e44-d542-4729-b4e7-3b631e4638b6",
   "metadata": {},
   "outputs": [
    {
     "data": {
      "text/html": [
       "<div>\n",
       "<style scoped>\n",
       "    .dataframe tbody tr th:only-of-type {\n",
       "        vertical-align: middle;\n",
       "    }\n",
       "\n",
       "    .dataframe tbody tr th {\n",
       "        vertical-align: top;\n",
       "    }\n",
       "\n",
       "    .dataframe thead th {\n",
       "        text-align: right;\n",
       "    }\n",
       "</style>\n",
       "<table border=\"1\" class=\"dataframe\">\n",
       "  <thead>\n",
       "    <tr style=\"text-align: right;\">\n",
       "      <th></th>\n",
       "      <th>Row ID</th>\n",
       "      <th>Postal Code</th>\n",
       "      <th>Sales</th>\n",
       "      <th>Quantity</th>\n",
       "      <th>Discount</th>\n",
       "      <th>Profit</th>\n",
       "      <th>Shipping Cost</th>\n",
       "    </tr>\n",
       "  </thead>\n",
       "  <tbody>\n",
       "    <tr>\n",
       "      <th>count</th>\n",
       "      <td>51290.00000</td>\n",
       "      <td>9994.000000</td>\n",
       "      <td>51290.000000</td>\n",
       "      <td>51290.000000</td>\n",
       "      <td>51290.000000</td>\n",
       "      <td>51290.000000</td>\n",
       "      <td>51290.000000</td>\n",
       "    </tr>\n",
       "    <tr>\n",
       "      <th>mean</th>\n",
       "      <td>25645.50000</td>\n",
       "      <td>55190.379428</td>\n",
       "      <td>246.490581</td>\n",
       "      <td>3.476545</td>\n",
       "      <td>0.142908</td>\n",
       "      <td>28.610982</td>\n",
       "      <td>26.375915</td>\n",
       "    </tr>\n",
       "    <tr>\n",
       "      <th>std</th>\n",
       "      <td>14806.29199</td>\n",
       "      <td>32063.693350</td>\n",
       "      <td>487.565361</td>\n",
       "      <td>2.278766</td>\n",
       "      <td>0.212280</td>\n",
       "      <td>174.340972</td>\n",
       "      <td>57.296804</td>\n",
       "    </tr>\n",
       "    <tr>\n",
       "      <th>min</th>\n",
       "      <td>1.00000</td>\n",
       "      <td>1040.000000</td>\n",
       "      <td>0.444000</td>\n",
       "      <td>1.000000</td>\n",
       "      <td>0.000000</td>\n",
       "      <td>-6599.978000</td>\n",
       "      <td>0.000000</td>\n",
       "    </tr>\n",
       "    <tr>\n",
       "      <th>25%</th>\n",
       "      <td>12823.25000</td>\n",
       "      <td>23223.000000</td>\n",
       "      <td>30.758625</td>\n",
       "      <td>2.000000</td>\n",
       "      <td>0.000000</td>\n",
       "      <td>0.000000</td>\n",
       "      <td>2.610000</td>\n",
       "    </tr>\n",
       "    <tr>\n",
       "      <th>50%</th>\n",
       "      <td>25645.50000</td>\n",
       "      <td>56430.500000</td>\n",
       "      <td>85.053000</td>\n",
       "      <td>3.000000</td>\n",
       "      <td>0.000000</td>\n",
       "      <td>9.240000</td>\n",
       "      <td>7.790000</td>\n",
       "    </tr>\n",
       "    <tr>\n",
       "      <th>75%</th>\n",
       "      <td>38467.75000</td>\n",
       "      <td>90008.000000</td>\n",
       "      <td>251.053200</td>\n",
       "      <td>5.000000</td>\n",
       "      <td>0.200000</td>\n",
       "      <td>36.810000</td>\n",
       "      <td>24.450000</td>\n",
       "    </tr>\n",
       "    <tr>\n",
       "      <th>max</th>\n",
       "      <td>51290.00000</td>\n",
       "      <td>99301.000000</td>\n",
       "      <td>22638.480000</td>\n",
       "      <td>14.000000</td>\n",
       "      <td>0.850000</td>\n",
       "      <td>8399.976000</td>\n",
       "      <td>933.570000</td>\n",
       "    </tr>\n",
       "  </tbody>\n",
       "</table>\n",
       "</div>"
      ],
      "text/plain": [
       "            Row ID   Postal Code         Sales      Quantity      Discount  \\\n",
       "count  51290.00000   9994.000000  51290.000000  51290.000000  51290.000000   \n",
       "mean   25645.50000  55190.379428    246.490581      3.476545      0.142908   \n",
       "std    14806.29199  32063.693350    487.565361      2.278766      0.212280   \n",
       "min        1.00000   1040.000000      0.444000      1.000000      0.000000   \n",
       "25%    12823.25000  23223.000000     30.758625      2.000000      0.000000   \n",
       "50%    25645.50000  56430.500000     85.053000      3.000000      0.000000   \n",
       "75%    38467.75000  90008.000000    251.053200      5.000000      0.200000   \n",
       "max    51290.00000  99301.000000  22638.480000     14.000000      0.850000   \n",
       "\n",
       "             Profit  Shipping Cost  \n",
       "count  51290.000000   51290.000000  \n",
       "mean      28.610982      26.375915  \n",
       "std      174.340972      57.296804  \n",
       "min    -6599.978000       0.000000  \n",
       "25%        0.000000       2.610000  \n",
       "50%        9.240000       7.790000  \n",
       "75%       36.810000      24.450000  \n",
       "max     8399.976000     933.570000  "
      ]
     },
     "execution_count": 15,
     "metadata": {},
     "output_type": "execute_result"
    }
   ],
   "source": [
    "df.describe() # for Numerical data only\n",
    "\n",
    "\n",
    "# .describe() returns the stastistic information\n",
    "# By default it works on Numerical data "
   ]
  },
  {
   "cell_type": "code",
   "execution_count": 16,
   "id": "62fdf119-ecb9-4ff8-9e98-38b019e2b454",
   "metadata": {},
   "outputs": [
    {
     "data": {
      "text/html": [
       "<div>\n",
       "<style scoped>\n",
       "    .dataframe tbody tr th:only-of-type {\n",
       "        vertical-align: middle;\n",
       "    }\n",
       "\n",
       "    .dataframe tbody tr th {\n",
       "        vertical-align: top;\n",
       "    }\n",
       "\n",
       "    .dataframe thead th {\n",
       "        text-align: right;\n",
       "    }\n",
       "</style>\n",
       "<table border=\"1\" class=\"dataframe\">\n",
       "  <thead>\n",
       "    <tr style=\"text-align: right;\">\n",
       "      <th></th>\n",
       "      <th>Row ID</th>\n",
       "      <th>Order ID</th>\n",
       "      <th>Order Date</th>\n",
       "      <th>Ship Date</th>\n",
       "      <th>Ship Mode</th>\n",
       "      <th>Customer ID</th>\n",
       "      <th>Customer Name</th>\n",
       "      <th>Segment</th>\n",
       "      <th>City</th>\n",
       "      <th>State</th>\n",
       "      <th>...</th>\n",
       "      <th>Product ID</th>\n",
       "      <th>Category</th>\n",
       "      <th>Sub-Category</th>\n",
       "      <th>Product Name</th>\n",
       "      <th>Sales</th>\n",
       "      <th>Quantity</th>\n",
       "      <th>Discount</th>\n",
       "      <th>Profit</th>\n",
       "      <th>Shipping Cost</th>\n",
       "      <th>Order Priority</th>\n",
       "    </tr>\n",
       "  </thead>\n",
       "  <tbody>\n",
       "    <tr>\n",
       "      <th>count</th>\n",
       "      <td>51290.00000</td>\n",
       "      <td>51290</td>\n",
       "      <td>51290</td>\n",
       "      <td>51290</td>\n",
       "      <td>51290</td>\n",
       "      <td>51290</td>\n",
       "      <td>51290</td>\n",
       "      <td>51290</td>\n",
       "      <td>51290</td>\n",
       "      <td>51290</td>\n",
       "      <td>...</td>\n",
       "      <td>51290</td>\n",
       "      <td>51290</td>\n",
       "      <td>51290</td>\n",
       "      <td>51290</td>\n",
       "      <td>51290.000000</td>\n",
       "      <td>51290.000000</td>\n",
       "      <td>51290.000000</td>\n",
       "      <td>51290.000000</td>\n",
       "      <td>51290.000000</td>\n",
       "      <td>51290</td>\n",
       "    </tr>\n",
       "    <tr>\n",
       "      <th>unique</th>\n",
       "      <td>NaN</td>\n",
       "      <td>25035</td>\n",
       "      <td>1430</td>\n",
       "      <td>1464</td>\n",
       "      <td>4</td>\n",
       "      <td>1590</td>\n",
       "      <td>795</td>\n",
       "      <td>3</td>\n",
       "      <td>3636</td>\n",
       "      <td>1094</td>\n",
       "      <td>...</td>\n",
       "      <td>10292</td>\n",
       "      <td>3</td>\n",
       "      <td>17</td>\n",
       "      <td>3788</td>\n",
       "      <td>NaN</td>\n",
       "      <td>NaN</td>\n",
       "      <td>NaN</td>\n",
       "      <td>NaN</td>\n",
       "      <td>NaN</td>\n",
       "      <td>4</td>\n",
       "    </tr>\n",
       "    <tr>\n",
       "      <th>top</th>\n",
       "      <td>NaN</td>\n",
       "      <td>CA-2014-100111</td>\n",
       "      <td>18-06-2014</td>\n",
       "      <td>22-11-2014</td>\n",
       "      <td>Standard Class</td>\n",
       "      <td>PO-18850</td>\n",
       "      <td>Muhammed Yedwab</td>\n",
       "      <td>Consumer</td>\n",
       "      <td>New York City</td>\n",
       "      <td>California</td>\n",
       "      <td>...</td>\n",
       "      <td>OFF-AR-10003651</td>\n",
       "      <td>Office Supplies</td>\n",
       "      <td>Binders</td>\n",
       "      <td>Staples</td>\n",
       "      <td>NaN</td>\n",
       "      <td>NaN</td>\n",
       "      <td>NaN</td>\n",
       "      <td>NaN</td>\n",
       "      <td>NaN</td>\n",
       "      <td>Medium</td>\n",
       "    </tr>\n",
       "    <tr>\n",
       "      <th>freq</th>\n",
       "      <td>NaN</td>\n",
       "      <td>14</td>\n",
       "      <td>135</td>\n",
       "      <td>130</td>\n",
       "      <td>30775</td>\n",
       "      <td>97</td>\n",
       "      <td>108</td>\n",
       "      <td>26518</td>\n",
       "      <td>915</td>\n",
       "      <td>2001</td>\n",
       "      <td>...</td>\n",
       "      <td>35</td>\n",
       "      <td>31273</td>\n",
       "      <td>6152</td>\n",
       "      <td>227</td>\n",
       "      <td>NaN</td>\n",
       "      <td>NaN</td>\n",
       "      <td>NaN</td>\n",
       "      <td>NaN</td>\n",
       "      <td>NaN</td>\n",
       "      <td>29433</td>\n",
       "    </tr>\n",
       "    <tr>\n",
       "      <th>mean</th>\n",
       "      <td>25645.50000</td>\n",
       "      <td>NaN</td>\n",
       "      <td>NaN</td>\n",
       "      <td>NaN</td>\n",
       "      <td>NaN</td>\n",
       "      <td>NaN</td>\n",
       "      <td>NaN</td>\n",
       "      <td>NaN</td>\n",
       "      <td>NaN</td>\n",
       "      <td>NaN</td>\n",
       "      <td>...</td>\n",
       "      <td>NaN</td>\n",
       "      <td>NaN</td>\n",
       "      <td>NaN</td>\n",
       "      <td>NaN</td>\n",
       "      <td>246.490581</td>\n",
       "      <td>3.476545</td>\n",
       "      <td>0.142908</td>\n",
       "      <td>28.610982</td>\n",
       "      <td>26.375915</td>\n",
       "      <td>NaN</td>\n",
       "    </tr>\n",
       "    <tr>\n",
       "      <th>std</th>\n",
       "      <td>14806.29199</td>\n",
       "      <td>NaN</td>\n",
       "      <td>NaN</td>\n",
       "      <td>NaN</td>\n",
       "      <td>NaN</td>\n",
       "      <td>NaN</td>\n",
       "      <td>NaN</td>\n",
       "      <td>NaN</td>\n",
       "      <td>NaN</td>\n",
       "      <td>NaN</td>\n",
       "      <td>...</td>\n",
       "      <td>NaN</td>\n",
       "      <td>NaN</td>\n",
       "      <td>NaN</td>\n",
       "      <td>NaN</td>\n",
       "      <td>487.565361</td>\n",
       "      <td>2.278766</td>\n",
       "      <td>0.212280</td>\n",
       "      <td>174.340972</td>\n",
       "      <td>57.296804</td>\n",
       "      <td>NaN</td>\n",
       "    </tr>\n",
       "    <tr>\n",
       "      <th>min</th>\n",
       "      <td>1.00000</td>\n",
       "      <td>NaN</td>\n",
       "      <td>NaN</td>\n",
       "      <td>NaN</td>\n",
       "      <td>NaN</td>\n",
       "      <td>NaN</td>\n",
       "      <td>NaN</td>\n",
       "      <td>NaN</td>\n",
       "      <td>NaN</td>\n",
       "      <td>NaN</td>\n",
       "      <td>...</td>\n",
       "      <td>NaN</td>\n",
       "      <td>NaN</td>\n",
       "      <td>NaN</td>\n",
       "      <td>NaN</td>\n",
       "      <td>0.444000</td>\n",
       "      <td>1.000000</td>\n",
       "      <td>0.000000</td>\n",
       "      <td>-6599.978000</td>\n",
       "      <td>0.000000</td>\n",
       "      <td>NaN</td>\n",
       "    </tr>\n",
       "    <tr>\n",
       "      <th>25%</th>\n",
       "      <td>12823.25000</td>\n",
       "      <td>NaN</td>\n",
       "      <td>NaN</td>\n",
       "      <td>NaN</td>\n",
       "      <td>NaN</td>\n",
       "      <td>NaN</td>\n",
       "      <td>NaN</td>\n",
       "      <td>NaN</td>\n",
       "      <td>NaN</td>\n",
       "      <td>NaN</td>\n",
       "      <td>...</td>\n",
       "      <td>NaN</td>\n",
       "      <td>NaN</td>\n",
       "      <td>NaN</td>\n",
       "      <td>NaN</td>\n",
       "      <td>30.758625</td>\n",
       "      <td>2.000000</td>\n",
       "      <td>0.000000</td>\n",
       "      <td>0.000000</td>\n",
       "      <td>2.610000</td>\n",
       "      <td>NaN</td>\n",
       "    </tr>\n",
       "    <tr>\n",
       "      <th>50%</th>\n",
       "      <td>25645.50000</td>\n",
       "      <td>NaN</td>\n",
       "      <td>NaN</td>\n",
       "      <td>NaN</td>\n",
       "      <td>NaN</td>\n",
       "      <td>NaN</td>\n",
       "      <td>NaN</td>\n",
       "      <td>NaN</td>\n",
       "      <td>NaN</td>\n",
       "      <td>NaN</td>\n",
       "      <td>...</td>\n",
       "      <td>NaN</td>\n",
       "      <td>NaN</td>\n",
       "      <td>NaN</td>\n",
       "      <td>NaN</td>\n",
       "      <td>85.053000</td>\n",
       "      <td>3.000000</td>\n",
       "      <td>0.000000</td>\n",
       "      <td>9.240000</td>\n",
       "      <td>7.790000</td>\n",
       "      <td>NaN</td>\n",
       "    </tr>\n",
       "    <tr>\n",
       "      <th>75%</th>\n",
       "      <td>38467.75000</td>\n",
       "      <td>NaN</td>\n",
       "      <td>NaN</td>\n",
       "      <td>NaN</td>\n",
       "      <td>NaN</td>\n",
       "      <td>NaN</td>\n",
       "      <td>NaN</td>\n",
       "      <td>NaN</td>\n",
       "      <td>NaN</td>\n",
       "      <td>NaN</td>\n",
       "      <td>...</td>\n",
       "      <td>NaN</td>\n",
       "      <td>NaN</td>\n",
       "      <td>NaN</td>\n",
       "      <td>NaN</td>\n",
       "      <td>251.053200</td>\n",
       "      <td>5.000000</td>\n",
       "      <td>0.200000</td>\n",
       "      <td>36.810000</td>\n",
       "      <td>24.450000</td>\n",
       "      <td>NaN</td>\n",
       "    </tr>\n",
       "    <tr>\n",
       "      <th>max</th>\n",
       "      <td>51290.00000</td>\n",
       "      <td>NaN</td>\n",
       "      <td>NaN</td>\n",
       "      <td>NaN</td>\n",
       "      <td>NaN</td>\n",
       "      <td>NaN</td>\n",
       "      <td>NaN</td>\n",
       "      <td>NaN</td>\n",
       "      <td>NaN</td>\n",
       "      <td>NaN</td>\n",
       "      <td>...</td>\n",
       "      <td>NaN</td>\n",
       "      <td>NaN</td>\n",
       "      <td>NaN</td>\n",
       "      <td>NaN</td>\n",
       "      <td>22638.480000</td>\n",
       "      <td>14.000000</td>\n",
       "      <td>0.850000</td>\n",
       "      <td>8399.976000</td>\n",
       "      <td>933.570000</td>\n",
       "      <td>NaN</td>\n",
       "    </tr>\n",
       "  </tbody>\n",
       "</table>\n",
       "<p>11 rows × 24 columns</p>\n",
       "</div>"
      ],
      "text/plain": [
       "             Row ID        Order ID  Order Date   Ship Date       Ship Mode  \\\n",
       "count   51290.00000           51290       51290       51290           51290   \n",
       "unique          NaN           25035        1430        1464               4   \n",
       "top             NaN  CA-2014-100111  18-06-2014  22-11-2014  Standard Class   \n",
       "freq            NaN              14         135         130           30775   \n",
       "mean    25645.50000             NaN         NaN         NaN             NaN   \n",
       "std     14806.29199             NaN         NaN         NaN             NaN   \n",
       "min         1.00000             NaN         NaN         NaN             NaN   \n",
       "25%     12823.25000             NaN         NaN         NaN             NaN   \n",
       "50%     25645.50000             NaN         NaN         NaN             NaN   \n",
       "75%     38467.75000             NaN         NaN         NaN             NaN   \n",
       "max     51290.00000             NaN         NaN         NaN             NaN   \n",
       "\n",
       "       Customer ID    Customer Name   Segment           City       State  ...  \\\n",
       "count        51290            51290     51290          51290       51290  ...   \n",
       "unique        1590              795         3           3636        1094  ...   \n",
       "top       PO-18850  Muhammed Yedwab  Consumer  New York City  California  ...   \n",
       "freq            97              108     26518            915        2001  ...   \n",
       "mean           NaN              NaN       NaN            NaN         NaN  ...   \n",
       "std            NaN              NaN       NaN            NaN         NaN  ...   \n",
       "min            NaN              NaN       NaN            NaN         NaN  ...   \n",
       "25%            NaN              NaN       NaN            NaN         NaN  ...   \n",
       "50%            NaN              NaN       NaN            NaN         NaN  ...   \n",
       "75%            NaN              NaN       NaN            NaN         NaN  ...   \n",
       "max            NaN              NaN       NaN            NaN         NaN  ...   \n",
       "\n",
       "             Product ID         Category Sub-Category Product Name  \\\n",
       "count             51290            51290        51290        51290   \n",
       "unique            10292                3           17         3788   \n",
       "top     OFF-AR-10003651  Office Supplies      Binders      Staples   \n",
       "freq                 35            31273         6152          227   \n",
       "mean                NaN              NaN          NaN          NaN   \n",
       "std                 NaN              NaN          NaN          NaN   \n",
       "min                 NaN              NaN          NaN          NaN   \n",
       "25%                 NaN              NaN          NaN          NaN   \n",
       "50%                 NaN              NaN          NaN          NaN   \n",
       "75%                 NaN              NaN          NaN          NaN   \n",
       "max                 NaN              NaN          NaN          NaN   \n",
       "\n",
       "               Sales      Quantity      Discount        Profit  Shipping Cost  \\\n",
       "count   51290.000000  51290.000000  51290.000000  51290.000000   51290.000000   \n",
       "unique           NaN           NaN           NaN           NaN            NaN   \n",
       "top              NaN           NaN           NaN           NaN            NaN   \n",
       "freq             NaN           NaN           NaN           NaN            NaN   \n",
       "mean      246.490581      3.476545      0.142908     28.610982      26.375915   \n",
       "std       487.565361      2.278766      0.212280    174.340972      57.296804   \n",
       "min         0.444000      1.000000      0.000000  -6599.978000       0.000000   \n",
       "25%        30.758625      2.000000      0.000000      0.000000       2.610000   \n",
       "50%        85.053000      3.000000      0.000000      9.240000       7.790000   \n",
       "75%       251.053200      5.000000      0.200000     36.810000      24.450000   \n",
       "max     22638.480000     14.000000      0.850000   8399.976000     933.570000   \n",
       "\n",
       "        Order Priority  \n",
       "count            51290  \n",
       "unique               4  \n",
       "top             Medium  \n",
       "freq             29433  \n",
       "mean               NaN  \n",
       "std                NaN  \n",
       "min                NaN  \n",
       "25%                NaN  \n",
       "50%                NaN  \n",
       "75%                NaN  \n",
       "max                NaN  \n",
       "\n",
       "[11 rows x 24 columns]"
      ]
     },
     "execution_count": 16,
     "metadata": {},
     "output_type": "execute_result"
    }
   ],
   "source": [
    "\n",
    "# To show the Stastistics of all\n",
    "# for all data types we can use as below code\n",
    "\n",
    "df.describe(include='all')"
   ]
  },
  {
   "cell_type": "markdown",
   "id": "62fb4e3a-577e-4235-87fd-ca99be1eb2f8",
   "metadata": {},
   "source": [
    "# Check Duplicate data if any"
   ]
  },
  {
   "cell_type": "code",
   "execution_count": 18,
   "id": "449b55af-4b79-42ce-8281-d1cef2b3ef00",
   "metadata": {},
   "outputs": [
    {
     "data": {
      "text/plain": [
       "False"
      ]
     },
     "execution_count": 18,
     "metadata": {},
     "output_type": "execute_result"
    }
   ],
   "source": [
    "df.duplicated().any()\n",
    "\n",
    "# .duplcated() is used to find the duplicate data in dataset\n",
    "# .any() , we have used here to find any duplicate if any there is in dataset"
   ]
  },
  {
   "cell_type": "markdown",
   "id": "772bc02d-7c49-4f94-889b-f4f0dec7ebfa",
   "metadata": {},
   "source": [
    "# drop unneccessery colomns"
   ]
  },
  {
   "cell_type": "code",
   "execution_count": 19,
   "id": "9fbab0b3-db5f-4206-9d13-3f6505f678a5",
   "metadata": {},
   "outputs": [
    {
     "data": {
      "text/plain": [
       "Index(['Row ID', 'Order ID', 'Order Date', 'Ship Date', 'Ship Mode',\n",
       "       'Customer ID', 'Customer Name', 'Segment', 'City', 'State', 'Country',\n",
       "       'Postal Code', 'Market', 'Region', 'Product ID', 'Category',\n",
       "       'Sub-Category', 'Product Name', 'Sales', 'Quantity', 'Discount',\n",
       "       'Profit', 'Shipping Cost', 'Order Priority'],\n",
       "      dtype='object')"
      ]
     },
     "execution_count": 19,
     "metadata": {},
     "output_type": "execute_result"
    }
   ],
   "source": [
    "# showing Columns \n",
    "\n",
    "df.columns"
   ]
  },
  {
   "cell_type": "markdown",
   "id": "b0cfc130-d6a0-4810-a4f5-563aa6644537",
   "metadata": {},
   "source": [
    "## drop columns "
   ]
  },
  {
   "cell_type": "code",
   "execution_count": 20,
   "id": "2844c2b6-436c-458b-8e3b-358b62e0444f",
   "metadata": {},
   "outputs": [
    {
     "name": "stdout",
     "output_type": "stream",
     "text": [
      "Columns Dropped !!\n"
     ]
    }
   ],
   "source": [
    "df= df.drop(['Row ID', 'Order ID','Customer ID','Postal Code'], axis=1)\n",
    "\n",
    "print('Columns Dropped !!')\n",
    "\n",
    "\n",
    "# drop() is used to drop the data from dataset\n",
    "# axis=1 is used to difine that we are dropping the columns , for Rows we can use axis=0\n",
    "# we have passed the column names in List bcz we have to drop many columns"
   ]
  },
  {
   "cell_type": "code",
   "execution_count": 21,
   "id": "e3f9b872-a93e-48b9-84bf-e2c2731dfded",
   "metadata": {},
   "outputs": [
    {
     "data": {
      "text/plain": [
       "Index(['Order Date', 'Ship Date', 'Ship Mode', 'Customer Name', 'Segment',\n",
       "       'City', 'State', 'Country', 'Market', 'Region', 'Product ID',\n",
       "       'Category', 'Sub-Category', 'Product Name', 'Sales', 'Quantity',\n",
       "       'Discount', 'Profit', 'Shipping Cost', 'Order Priority'],\n",
       "      dtype='object')"
      ]
     },
     "execution_count": 21,
     "metadata": {},
     "output_type": "execute_result"
    }
   ],
   "source": [
    "# showing columns \n",
    "\n",
    "df.columns"
   ]
  },
  {
   "cell_type": "raw",
   "id": "3f89f3d2-cf5b-41c5-a078-63fda20d8c2f",
   "metadata": {},
   "source": [
    "we cane see that we have dropped the above columns "
   ]
  },
  {
   "cell_type": "markdown",
   "id": "f5f14497-1a00-4396-9b6b-c278fbb56fe0",
   "metadata": {},
   "source": [
    "# Task >>>"
   ]
  },
  {
   "cell_type": "markdown",
   "id": "8f91393a-b3f6-41ff-9d97-d1c2b909b837",
   "metadata": {},
   "source": [
    "## show Category wise Profit"
   ]
  },
  {
   "cell_type": "code",
   "execution_count": 23,
   "id": "056b053e-b24d-4e26-9a3c-36be7b55dfc2",
   "metadata": {},
   "outputs": [
    {
     "data": {
      "text/plain": [
       "Index(['Order Date', 'Ship Date', 'Ship Mode', 'Customer Name', 'Segment',\n",
       "       'City', 'State', 'Country', 'Market', 'Region', 'Product ID',\n",
       "       'Category', 'Sub-Category', 'Product Name', 'Sales', 'Quantity',\n",
       "       'Discount', 'Profit', 'Shipping Cost', 'Order Priority'],\n",
       "      dtype='object')"
      ]
     },
     "execution_count": 23,
     "metadata": {},
     "output_type": "execute_result"
    }
   ],
   "source": [
    "# showing columns \n",
    "df.columns\n"
   ]
  },
  {
   "cell_type": "code",
   "execution_count": 26,
   "id": "65b9cc86-ad2d-4392-b260-8f03443a5ee5",
   "metadata": {},
   "outputs": [
    {
     "data": {
      "text/plain": [
       "Category\n",
       "Furniture          285204.72380\n",
       "Office Supplies    518473.83430\n",
       "Technology         663778.73318\n",
       "Name: Profit, dtype: float64"
      ]
     },
     "execution_count": 26,
     "metadata": {},
     "output_type": "execute_result"
    }
   ],
   "source": [
    "cat_profit = df.groupby('Category')['Profit'].sum()\n",
    "\n",
    "# show result\n",
    "cat_profit\n",
    "\n",
    "\n",
    "# .groupby() is used to performing the group wise aggregation, \n",
    "# .sum() returns the total"
   ]
  },
  {
   "cell_type": "code",
   "execution_count": 27,
   "id": "88da194e-1da4-4f87-94e4-7e6eb5b052d3",
   "metadata": {},
   "outputs": [
    {
     "data": {
      "image/png": "[encoded data removed]",
      "text/plain": [
       "<Figure size 640x480 with 1 Axes>"
      ]
     },
     "metadata": {},
     "output_type": "display_data"
    }
   ],
   "source": [
    "cat_profit.plot(kind='bar')\n",
    "plt.title('Catefory Wise Profit')\n",
    "plt.xlabel('Category')\n",
    "plt.ylabel('Profit')\n",
    "plt.show()"
   ]
  },
  {
   "cell_type": "raw",
   "id": "d47f8298-f221-4b2a-8776-e4c9b3b95b02",
   "metadata": {},
   "source": [
    " Teconology has the highest profit margin"
   ]
  },
  {
   "cell_type": "markdown",
   "id": "68196d89-877c-4b69-baa2-bf9ece040c41",
   "metadata": {},
   "source": [
    "## Show Region wise sales "
   ]
  },
  {
   "cell_type": "code",
   "execution_count": 28,
   "id": "c9e7b2f6-be6a-4a6b-ba4c-538acde8f991",
   "metadata": {},
   "outputs": [
    {
     "data": {
      "text/plain": [
       "Index(['Order Date', 'Ship Date', 'Ship Mode', 'Customer Name', 'Segment',\n",
       "       'City', 'State', 'Country', 'Market', 'Region', 'Product ID',\n",
       "       'Category', 'Sub-Category', 'Product Name', 'Sales', 'Quantity',\n",
       "       'Discount', 'Profit', 'Shipping Cost', 'Order Priority'],\n",
       "      dtype='object')"
      ]
     },
     "execution_count": 28,
     "metadata": {},
     "output_type": "execute_result"
    }
   ],
   "source": [
    "# showing columns\n",
    "\n",
    "df.columns"
   ]
  },
  {
   "cell_type": "code",
   "execution_count": 30,
   "id": "3160f116-a884-4366-866c-33454d6afcaf",
   "metadata": {},
   "outputs": [
    {
     "data": {
      "text/plain": [
       "Region\n",
       "Africa            7.837732e+05\n",
       "Canada            6.692817e+04\n",
       "Caribbean         3.242809e+05\n",
       "Central           2.822303e+06\n",
       "Central Asia      7.528266e+05\n",
       "EMEA              8.061613e+05\n",
       "East              6.787812e+05\n",
       "North             1.248166e+06\n",
       "North Asia        8.483098e+05\n",
       "Oceania           1.100185e+06\n",
       "South             1.600907e+06\n",
       "Southeast Asia    8.844232e+05\n",
       "West              7.254578e+05\n",
       "Name: Sales, dtype: float64"
      ]
     },
     "execution_count": 30,
     "metadata": {},
     "output_type": "execute_result"
    }
   ],
   "source": [
    "reg_sales = df.groupby('Region')['Sales'].sum()\n",
    "\n",
    "\n",
    "# .groupby() is used to performing the group wise aggregation, \n",
    "# .sum() returns the total\n",
    "\n",
    "# show result\n",
    "reg_sales"
   ]
  },
  {
   "cell_type": "code",
   "execution_count": 31,
   "id": "8435ac76-5c7b-44b7-81b1-cc1be8b32dad",
   "metadata": {},
   "outputs": [
    {
     "data": {
      "image/png": "[encoded data removed]",
      "text/plain": [
       "<Figure size 640x480 with 1 Axes>"
      ]
     },
     "metadata": {},
     "output_type": "display_data"
    }
   ],
   "source": [
    "reg_sales.plot(kind='barh')\n",
    "plt.title('Region Wise Sales')\n",
    "plt.xlabel('Region')\n",
    "plt.ylabel('Sales')\n",
    "plt.show()"
   ]
  },
  {
   "cell_type": "raw",
   "id": "b41e75a0-c8e1-4a11-acb0-59a2a31b61c2",
   "metadata": {},
   "source": [
    "Central Region has highest sales "
   ]
  },
  {
   "cell_type": "markdown",
   "id": "4abc88d8-1cad-4a68-b7d8-974b2185669a",
   "metadata": {},
   "source": [
    "## Show MOnthly Sales to find that which month has the highest sales"
   ]
  },
  {
   "cell_type": "code",
   "execution_count": 32,
   "id": "7da53e91-43f1-415c-9fc8-7a2b7ff8df02",
   "metadata": {},
   "outputs": [
    {
     "data": {
      "text/plain": [
       "Index(['Order Date', 'Ship Date', 'Ship Mode', 'Customer Name', 'Segment',\n",
       "       'City', 'State', 'Country', 'Market', 'Region', 'Product ID',\n",
       "       'Category', 'Sub-Category', 'Product Name', 'Sales', 'Quantity',\n",
       "       'Discount', 'Profit', 'Shipping Cost', 'Order Priority'],\n",
       "      dtype='object')"
      ]
     },
     "execution_count": 32,
     "metadata": {},
     "output_type": "execute_result"
    }
   ],
   "source": [
    "# showing columns \n",
    "\n",
    "df.columns"
   ]
  },
  {
   "cell_type": "raw",
   "id": "f9ea6540-6aca-4e3f-a301-3f119f0aed0b",
   "metadata": {},
   "source": [
    "So we have towork on Order Date column \n",
    "lets show the Order date column data below"
   ]
  },
  {
   "cell_type": "code",
   "execution_count": 33,
   "id": "61e6dd19-60ec-4da2-9ced-9036d0e86fe5",
   "metadata": {},
   "outputs": [
    {
     "data": {
      "text/plain": [
       "0    1/1/2011\n",
       "1    1/1/2011\n",
       "2    1/1/2011\n",
       "3    1/1/2011\n",
       "4    1/1/2011\n",
       "Name: Order Date, dtype: object"
      ]
     },
     "execution_count": 33,
     "metadata": {},
     "output_type": "execute_result"
    }
   ],
   "source": [
    "# showing top 5 rows of order date\n",
    "df['Order Date'].head()"
   ]
  },
  {
   "cell_type": "raw",
   "id": "cffb315d-f775-4b9d-b0d0-a919311b46d3",
   "metadata": {},
   "source": [
    "we have to extract the month from the order date "
   ]
  },
  {
   "cell_type": "code",
   "execution_count": 34,
   "id": "b277524e-2652-40e1-818d-0cb9f06e11c0",
   "metadata": {},
   "outputs": [
    {
     "name": "stdout",
     "output_type": "stream",
     "text": [
      "column created !!\n"
     ]
    }
   ],
   "source": [
    "# Create New column as Order_Month on the basis of Order date\n",
    "\n",
    "df['Order_Mnth'] =  pd.DatetimeIndex(df['Order Date']).month\n",
    "\n",
    "print('column created !!')"
   ]
  },
  {
   "cell_type": "code",
   "execution_count": 35,
   "id": "831895de-bd1a-4038-85d5-3f61989dd171",
   "metadata": {},
   "outputs": [
    {
     "data": {
      "text/plain": [
       "Index(['Order Date', 'Ship Date', 'Ship Mode', 'Customer Name', 'Segment',\n",
       "       'City', 'State', 'Country', 'Market', 'Region', 'Product ID',\n",
       "       'Category', 'Sub-Category', 'Product Name', 'Sales', 'Quantity',\n",
       "       'Discount', 'Profit', 'Shipping Cost', 'Order Priority', 'Order_Mnth'],\n",
       "      dtype='object')"
      ]
     },
     "execution_count": 35,
     "metadata": {},
     "output_type": "execute_result"
    }
   ],
   "source": [
    "# showing column \n",
    "\n",
    "df.columns"
   ]
  },
  {
   "cell_type": "raw",
   "id": "b7d960c4-b185-4134-aba6-87493c362d18",
   "metadata": {},
   "source": [
    "We can see that column created !! Let's Perform the Monthly Sales analysis"
   ]
  },
  {
   "cell_type": "code",
   "execution_count": 36,
   "id": "817b1f1c-a149-46c9-bc24-0c20328f8980",
   "metadata": {},
   "outputs": [
    {
     "data": {
      "text/plain": [
       "Order_Mnth\n",
       "1     7.757669e+05\n",
       "2     7.228532e+05\n",
       "3     9.513331e+05\n",
       "4     8.516173e+05\n",
       "5     9.764157e+05\n",
       "6     1.152368e+06\n",
       "7     8.387436e+05\n",
       "8     1.247501e+06\n",
       "9     1.244140e+06\n",
       "10    1.120777e+06\n",
       "11    1.377651e+06\n",
       "12    1.383335e+06\n",
       "Name: Sales, dtype: float64"
      ]
     },
     "execution_count": 36,
     "metadata": {},
     "output_type": "execute_result"
    }
   ],
   "source": [
    "monthly_sales = df.groupby('Order_Mnth')['Sales'].sum()\n",
    "\n",
    "# show Result\n",
    "monthly_sales\n"
   ]
  },
  {
   "cell_type": "code",
   "execution_count": 38,
   "id": "b39b9382-14d3-4a50-8a3e-b3030ac7c844",
   "metadata": {},
   "outputs": [
    {
     "data": {
      "image/png": "[encoded data removed]",
      "text/plain": [
       "<Figure size 640x480 with 1 Axes>"
      ]
     },
     "metadata": {},
     "output_type": "display_data"
    }
   ],
   "source": [
    "monthly_sales.plot(kind='bar')\n",
    "plt.title('MOnth Wise Sales')\n",
    "plt.xlabel('Month')\n",
    "plt.ylabel('Sales')\n",
    "plt.show()\n"
   ]
  },
  {
   "cell_type": "code",
   "execution_count": 39,
   "id": "d26c5fcb-5def-42a2-a7bc-11dde6b187ea",
   "metadata": {},
   "outputs": [
    {
     "data": {
      "image/png": "[encoded data removed]",
      "text/plain": [
       "<Figure size 640x480 with 1 Axes>"
      ]
     },
     "metadata": {},
     "output_type": "display_data"
    }
   ],
   "source": [
    "monthly_sales.plot(kind='line')\n",
    "plt.title('MOnth Wise Sales')\n",
    "plt.xlabel('Month')\n",
    "plt.ylabel('Sales')\n",
    "plt.show()\n"
   ]
  },
  {
   "cell_type": "raw",
   "id": "715272fb-90ed-4ebe-b814-bbfeb040bce3",
   "metadata": {},
   "source": [
    "We can see that Nov & Dec Month has the highest Sales"
   ]
  },
  {
   "cell_type": "markdown",
   "id": "59853936-ed88-4b1c-916f-f50901c2a5ec",
   "metadata": {},
   "source": [
    "# is WeekDay more profitable that Weekend "
   ]
  },
  {
   "cell_type": "code",
   "execution_count": 40,
   "id": "bf77f59d-b312-4f43-8bb5-9b3a68bdf86d",
   "metadata": {},
   "outputs": [
    {
     "data": {
      "text/plain": [
       "Index(['Order Date', 'Ship Date', 'Ship Mode', 'Customer Name', 'Segment',\n",
       "       'City', 'State', 'Country', 'Market', 'Region', 'Product ID',\n",
       "       'Category', 'Sub-Category', 'Product Name', 'Sales', 'Quantity',\n",
       "       'Discount', 'Profit', 'Shipping Cost', 'Order Priority', 'Order_Mnth'],\n",
       "      dtype='object')"
      ]
     },
     "execution_count": 40,
     "metadata": {},
     "output_type": "execute_result"
    }
   ],
   "source": [
    "# Showing Columns\n",
    "\n",
    "df.columns\n"
   ]
  },
  {
   "cell_type": "raw",
   "id": "ec46fe16-a2f9-414a-82ce-f71c14eb9d67",
   "metadata": {},
   "source": [
    "So we can see that we don't have any Day Column , Lets Create an New column For Day on the basis of order Date"
   ]
  },
  {
   "cell_type": "code",
   "execution_count": 41,
   "id": "11d76e6e-69a7-4872-9ede-8efa444b4767",
   "metadata": {},
   "outputs": [
    {
     "name": "stdout",
     "output_type": "stream",
     "text": [
      "Columns Craeted !!\n"
     ]
    }
   ],
   "source": [
    "df['Order_day'] = pd.DatetimeIndex(df['Order Date']).day_name()\n",
    "\n",
    "print('Columns Craeted !!')"
   ]
  },
  {
   "cell_type": "code",
   "execution_count": 43,
   "id": "6c73f0dc-3d0c-4569-a806-8308150ce3b6",
   "metadata": {},
   "outputs": [
    {
     "data": {
      "text/plain": [
       "array(['Saturday', 'Sunday', 'Monday', 'Tuesday', 'Thursday', 'Friday',\n",
       "       'Wednesday'], dtype=object)"
      ]
     },
     "execution_count": 43,
     "metadata": {},
     "output_type": "execute_result"
    }
   ],
   "source": [
    "# Show the Order_DAy column Unique data only\n",
    "\n",
    "df['Order_day'].unique()"
   ]
  },
  {
   "cell_type": "raw",
   "id": "33e5d450-c207-4f8a-9c23-c30948e1a9ba",
   "metadata": {},
   "source": [
    "we can see that we hasve now day name on our Order Day column Data, lets Show the Day wise Profit Analysis"
   ]
  },
  {
   "cell_type": "code",
   "execution_count": 44,
   "id": "759095de-fe7e-4ca0-91d9-984392759cde",
   "metadata": {},
   "outputs": [
    {
     "data": {
      "text/plain": [
       "Order_day\n",
       "Friday       243802.83544\n",
       "Monday       246526.55710\n",
       "Saturday     176486.55222\n",
       "Sunday       104117.90698\n",
       "Thursday     241183.07994\n",
       "Tuesday      249788.05098\n",
       "Wednesday    205552.30862\n",
       "Name: Profit, dtype: float64"
      ]
     },
     "execution_count": 44,
     "metadata": {},
     "output_type": "execute_result"
    }
   ],
   "source": [
    "daily_profit = df.groupby('Order_day')['Profit'].sum()\n",
    "\n",
    "# Show Result\n",
    "\n",
    "daily_profit"
   ]
  },
  {
   "cell_type": "code",
   "execution_count": 46,
   "id": "c12f9091-15e3-4928-a0c5-2d93df79bcda",
   "metadata": {},
   "outputs": [
    {
     "data": {
      "image/png": "[encoded data removed]",
      "text/plain": [
       "<Figure size 640x480 with 1 Axes>"
      ]
     },
     "metadata": {},
     "output_type": "display_data"
    }
   ],
   "source": [
    "daily_profit.plot(kind='bar')\n",
    "plt.title('Day Wise Profit')\n",
    "plt.xlabel('Days')\n",
    "plt.ylabel('Profit')\n",
    "plt.show()\n"
   ]
  },
  {
   "cell_type": "raw",
   "id": "c6a15b7d-34db-42c0-9aed-89b550aafbeb",
   "metadata": {},
   "source": [
    "So we can see on the above graph that Weekdays making More Profit that Weekends"
   ]
  },
  {
   "cell_type": "markdown",
   "id": "2048c179-61f6-4fc1-b624-4b1e97b5b5ad",
   "metadata": {},
   "source": [
    "# SHow the top 10 Perfroming Product By Sales "
   ]
  },
  {
   "cell_type": "code",
   "execution_count": 47,
   "id": "28de60ca-022e-45a0-ae4c-99a048bd2521",
   "metadata": {},
   "outputs": [
    {
     "data": {
      "text/plain": [
       "Index(['Order Date', 'Ship Date', 'Ship Mode', 'Customer Name', 'Segment',\n",
       "       'City', 'State', 'Country', 'Market', 'Region', 'Product ID',\n",
       "       'Category', 'Sub-Category', 'Product Name', 'Sales', 'Quantity',\n",
       "       'Discount', 'Profit', 'Shipping Cost', 'Order Priority', 'Order_Mnth',\n",
       "       'Order_day'],\n",
       "      dtype='object')"
      ]
     },
     "execution_count": 47,
     "metadata": {},
     "output_type": "execute_result"
    }
   ],
   "source": [
    "# showing columns\n",
    "\n",
    "df.columns"
   ]
  },
  {
   "cell_type": "code",
   "execution_count": 56,
   "id": "8058aee3-6316-444e-9296-9ab475dc0ee2",
   "metadata": {},
   "outputs": [
    {
     "data": {
      "text/plain": [
       "Product Name\n",
       "Apple Smart Phone, Full Size                                86935.7786\n",
       "Cisco Smart Phone, Full Size                                76441.5306\n",
       "Motorola Smart Phone, Full Size                             73156.3030\n",
       "Nokia Smart Phone, Full Size                                71904.5555\n",
       "Canon imageCLASS 2200 Advanced Copier                       61599.8240\n",
       "Hon Executive Leather Armchair, Adjustable                  58193.4841\n",
       "Office Star Executive Leather Armchair, Adjustable          50661.6840\n",
       "Harbour Creations Executive Leather Armchair, Adjustable    50121.5160\n",
       "Samsung Smart Phone, Cordless                               48653.4600\n",
       "Nokia Smart Phone, with Caller ID                           47877.7857\n",
       "Name: Sales, dtype: float64"
      ]
     },
     "execution_count": 56,
     "metadata": {},
     "output_type": "execute_result"
    }
   ],
   "source": [
    "top10_prod_sales = df.groupby('Product Name')['Sales'].sum().sort_values(ascending = False).head(10)\n",
    "\n",
    "# show result \n",
    "top10_prod_sales"
   ]
  },
  {
   "cell_type": "code",
   "execution_count": 58,
   "id": "a18245f1-2b4f-4c7d-9018-24cc8fe2be31",
   "metadata": {},
   "outputs": [
    {
     "data": {
      "image/png": "[encoded data removed]",
      "text/plain": [
       "<Figure size 640x480 with 1 Axes>"
      ]
     },
     "metadata": {},
     "output_type": "display_data"
    }
   ],
   "source": [
    "# Setting up the graph & its type \n",
    "top10_prod_sales.plot(kind='bar') # Setting up the Plot Type = Bar \n",
    "\n",
    "plt.title('Top 10 Prodct Sales') # Setting up the Title \n",
    "plt.xlabel('Product') # Setting up the X-label title \n",
    "plt.ylabel('Sales') # Setting up the X-label title \n",
    "\n",
    "# Show the graph\n",
    "plt.show()"
   ]
  },
  {
   "cell_type": "markdown",
   "id": "07340523-e537-43b4-9cff-9504e0bee9e3",
   "metadata": {},
   "source": [
    "# How Many type sof Shipment available ?"
   ]
  },
  {
   "cell_type": "code",
   "execution_count": 60,
   "id": "d32d6ffa-d021-4e68-b0d4-37106d46ff94",
   "metadata": {},
   "outputs": [
    {
     "data": {
      "text/plain": [
       "Index(['Order Date', 'Ship Date', 'Ship Mode', 'Customer Name', 'Segment',\n",
       "       'City', 'State', 'Country', 'Market', 'Region', 'Product ID',\n",
       "       'Category', 'Sub-Category', 'Product Name', 'Sales', 'Quantity',\n",
       "       'Discount', 'Profit', 'Shipping Cost', 'Order Priority', 'Order_Mnth',\n",
       "       'Order_day'],\n",
       "      dtype='object')"
      ]
     },
     "execution_count": 60,
     "metadata": {},
     "output_type": "execute_result"
    }
   ],
   "source": [
    "# showung Columns\n",
    "\n",
    "df.columns"
   ]
  },
  {
   "cell_type": "code",
   "execution_count": 61,
   "id": "54a1ee6c-f536-4227-a8cb-7b1de09e069d",
   "metadata": {},
   "outputs": [
    {
     "data": {
      "text/plain": [
       "0        Standard Class\n",
       "1        Standard Class\n",
       "2          Second Class\n",
       "3          Second Class\n",
       "4        Standard Class\n",
       "              ...      \n",
       "51285    Standard Class\n",
       "51286    Standard Class\n",
       "51287      Second Class\n",
       "51288    Standard Class\n",
       "51289    Standard Class\n",
       "Name: Ship Mode, Length: 51290, dtype: object"
      ]
     },
     "execution_count": 61,
     "metadata": {},
     "output_type": "execute_result"
    }
   ],
   "source": [
    "# showing Ship Mode data \n",
    "\n",
    "df['Ship Mode']"
   ]
  },
  {
   "cell_type": "code",
   "execution_count": 63,
   "id": "429e1e36-3fc8-425f-b009-cf21a02f19ca",
   "metadata": {},
   "outputs": [
    {
     "data": {
      "text/plain": [
       "['Standard Class', 'Second Class', 'First Class', 'Same Day']"
      ]
     },
     "execution_count": 63,
     "metadata": {},
     "output_type": "execute_result"
    }
   ],
   "source": [
    "# Lets extract the Unique Ship Mode\n",
    "\n",
    "df['Ship Mode'].unique().tolist()"
   ]
  },
  {
   "cell_type": "markdown",
   "id": "96544674-c648-4bac-ad63-23106172cd52",
   "metadata": {},
   "source": [
    "# show Ship Mode Wise Total Sales "
   ]
  },
  {
   "cell_type": "code",
   "execution_count": 68,
   "id": "3e6a68d1-f827-4655-9293-0604fbda0e89",
   "metadata": {},
   "outputs": [
    {
     "data": {
      "text/plain": [
       "Ship Mode\n",
       "Standard Class   7578652.107\n",
       "Second Class     2565671.681\n",
       "First Class      1830976.138\n",
       "Same Day          667201.984\n",
       "Name: Sales, dtype: float64"
      ]
     },
     "execution_count": 68,
     "metadata": {},
     "output_type": "execute_result"
    }
   ],
   "source": [
    "ship_mode_sales = df.groupby('Ship Mode')['Sales'].sum().sort_values(ascending=False)\n",
    "\n",
    "# show result\n",
    "ship_mode_sales"
   ]
  },
  {
   "cell_type": "code",
   "execution_count": 70,
   "id": "601845e6-8b29-442d-8c97-2aa0acff23ea",
   "metadata": {},
   "outputs": [
    {
     "data": {
      "image/png": "[encoded data removed]",
      "text/plain": [
       "<Figure size 640x480 with 1 Axes>"
      ]
     },
     "metadata": {},
     "output_type": "display_data"
    }
   ],
   "source": [
    "ship_mode_sales.plot(kind='pie')\n",
    "\n",
    "plt.legend()\n",
    "plt.show()"
   ]
  },
  {
   "cell_type": "code",
   "execution_count": 73,
   "id": "70f8699e-b370-431b-ae3c-24cd8fdcf56f",
   "metadata": {},
   "outputs": [
    {
     "data": {
      "text/html": [
       "<div>\n",
       "<style scoped>\n",
       "    .dataframe tbody tr th:only-of-type {\n",
       "        vertical-align: middle;\n",
       "    }\n",
       "\n",
       "    .dataframe tbody tr th {\n",
       "        vertical-align: top;\n",
       "    }\n",
       "\n",
       "    .dataframe thead th {\n",
       "        text-align: right;\n",
       "    }\n",
       "</style>\n",
       "<table border=\"1\" class=\"dataframe\">\n",
       "  <thead>\n",
       "    <tr style=\"text-align: right;\">\n",
       "      <th></th>\n",
       "      <th>Order Date</th>\n",
       "      <th>Ship Date</th>\n",
       "      <th>Ship Mode</th>\n",
       "      <th>Customer Name</th>\n",
       "      <th>Segment</th>\n",
       "      <th>City</th>\n",
       "      <th>State</th>\n",
       "      <th>Country</th>\n",
       "      <th>Market</th>\n",
       "      <th>Region</th>\n",
       "      <th>...</th>\n",
       "      <th>Sub-Category</th>\n",
       "      <th>Product Name</th>\n",
       "      <th>Sales</th>\n",
       "      <th>Quantity</th>\n",
       "      <th>Discount</th>\n",
       "      <th>Profit</th>\n",
       "      <th>Shipping Cost</th>\n",
       "      <th>Order Priority</th>\n",
       "      <th>Order_Mnth</th>\n",
       "      <th>Order_day</th>\n",
       "    </tr>\n",
       "  </thead>\n",
       "  <tbody>\n",
       "    <tr>\n",
       "      <th>0</th>\n",
       "      <td>1/1/2011</td>\n",
       "      <td>6/1/2011</td>\n",
       "      <td>Standard Class</td>\n",
       "      <td>Toby Braunhardt</td>\n",
       "      <td>Consumer</td>\n",
       "      <td>Constantine</td>\n",
       "      <td>Constantine</td>\n",
       "      <td>Algeria</td>\n",
       "      <td>Africa</td>\n",
       "      <td>Africa</td>\n",
       "      <td>...</td>\n",
       "      <td>Storage</td>\n",
       "      <td>Tenex Lockers, Blue</td>\n",
       "      <td>408.300</td>\n",
       "      <td>2</td>\n",
       "      <td>0.000</td>\n",
       "      <td>106.140</td>\n",
       "      <td>35.460</td>\n",
       "      <td>Medium</td>\n",
       "      <td>1</td>\n",
       "      <td>Saturday</td>\n",
       "    </tr>\n",
       "    <tr>\n",
       "      <th>1</th>\n",
       "      <td>1/1/2011</td>\n",
       "      <td>8/1/2011</td>\n",
       "      <td>Standard Class</td>\n",
       "      <td>Joseph Holt</td>\n",
       "      <td>Consumer</td>\n",
       "      <td>Wagga Wagga</td>\n",
       "      <td>New South Wales</td>\n",
       "      <td>Australia</td>\n",
       "      <td>APAC</td>\n",
       "      <td>Oceania</td>\n",
       "      <td>...</td>\n",
       "      <td>Supplies</td>\n",
       "      <td>Acme Trimmer, High Speed</td>\n",
       "      <td>120.366</td>\n",
       "      <td>3</td>\n",
       "      <td>0.100</td>\n",
       "      <td>36.036</td>\n",
       "      <td>9.720</td>\n",
       "      <td>Medium</td>\n",
       "      <td>1</td>\n",
       "      <td>Saturday</td>\n",
       "    </tr>\n",
       "  </tbody>\n",
       "</table>\n",
       "<p>2 rows × 22 columns</p>\n",
       "</div>"
      ],
      "text/plain": [
       "  Order Date Ship Date       Ship Mode    Customer Name   Segment  \\\n",
       "0   1/1/2011  6/1/2011  Standard Class  Toby Braunhardt  Consumer   \n",
       "1   1/1/2011  8/1/2011  Standard Class      Joseph Holt  Consumer   \n",
       "\n",
       "          City            State    Country  Market   Region  ... Sub-Category  \\\n",
       "0  Constantine      Constantine    Algeria  Africa   Africa  ...      Storage   \n",
       "1  Wagga Wagga  New South Wales  Australia    APAC  Oceania  ...     Supplies   \n",
       "\n",
       "               Product Name   Sales Quantity  Discount  Profit  Shipping Cost  \\\n",
       "0       Tenex Lockers, Blue 408.300        2     0.000 106.140         35.460   \n",
       "1  Acme Trimmer, High Speed 120.366        3     0.100  36.036          9.720   \n",
       "\n",
       "   Order Priority  Order_Mnth Order_day  \n",
       "0          Medium           1  Saturday  \n",
       "1          Medium           1  Saturday  \n",
       "\n",
       "[2 rows x 22 columns]"
      ]
     },
     "execution_count": 73,
     "metadata": {},
     "output_type": "execute_result"
    }
   ],
   "source": [
    "# Showing Top 2 Rows \n",
    "\n",
    "df.head(2)"
   ]
  },
  {
   "cell_type": "markdown",
   "id": "ebe2dd09-b77f-46e5-ad03-be4641c0a449",
   "metadata": {},
   "source": [
    "# Show Sub_Category Wise Total Sales & Profit and Sold QTY "
   ]
  },
  {
   "cell_type": "code",
   "execution_count": 74,
   "id": "7a1b51dc-25c9-4bcd-8b62-7dad65eb6e5d",
   "metadata": {},
   "outputs": [
    {
     "data": {
      "text/plain": [
       "Index(['Order Date', 'Ship Date', 'Ship Mode', 'Customer Name', 'Segment',\n",
       "       'City', 'State', 'Country', 'Market', 'Region', 'Product ID',\n",
       "       'Category', 'Sub-Category', 'Product Name', 'Sales', 'Quantity',\n",
       "       'Discount', 'Profit', 'Shipping Cost', 'Order Priority', 'Order_Mnth',\n",
       "       'Order_day'],\n",
       "      dtype='object')"
      ]
     },
     "execution_count": 74,
     "metadata": {},
     "output_type": "execute_result"
    }
   ],
   "source": [
    "# Showing Columns \n",
    "df.columns"
   ]
  },
  {
   "cell_type": "code",
   "execution_count": 77,
   "id": "a84f8030-87a3-432b-960d-2f8af5f1b3dd",
   "metadata": {},
   "outputs": [
    {
     "data": {
      "text/html": [
       "<div>\n",
       "<style scoped>\n",
       "    .dataframe tbody tr th:only-of-type {\n",
       "        vertical-align: middle;\n",
       "    }\n",
       "\n",
       "    .dataframe tbody tr th {\n",
       "        vertical-align: top;\n",
       "    }\n",
       "\n",
       "    .dataframe thead th {\n",
       "        text-align: right;\n",
       "    }\n",
       "</style>\n",
       "<table border=\"1\" class=\"dataframe\">\n",
       "  <thead>\n",
       "    <tr style=\"text-align: right;\">\n",
       "      <th></th>\n",
       "      <th>Sales</th>\n",
       "      <th>Profit</th>\n",
       "      <th>Quantity</th>\n",
       "    </tr>\n",
       "    <tr>\n",
       "      <th>Sub-Category</th>\n",
       "      <th></th>\n",
       "      <th></th>\n",
       "      <th></th>\n",
       "    </tr>\n",
       "  </thead>\n",
       "  <tbody>\n",
       "    <tr>\n",
       "      <th>Accessories</th>\n",
       "      <td>749237.019</td>\n",
       "      <td>129626.306</td>\n",
       "      <td>10946</td>\n",
       "    </tr>\n",
       "    <tr>\n",
       "      <th>Appliances</th>\n",
       "      <td>1011064.305</td>\n",
       "      <td>141680.589</td>\n",
       "      <td>6078</td>\n",
       "    </tr>\n",
       "    <tr>\n",
       "      <th>Art</th>\n",
       "      <td>372091.966</td>\n",
       "      <td>57953.911</td>\n",
       "      <td>16301</td>\n",
       "    </tr>\n",
       "    <tr>\n",
       "      <th>Binders</th>\n",
       "      <td>461911.506</td>\n",
       "      <td>72449.846</td>\n",
       "      <td>21429</td>\n",
       "    </tr>\n",
       "    <tr>\n",
       "      <th>Bookcases</th>\n",
       "      <td>1466572.242</td>\n",
       "      <td>161924.419</td>\n",
       "      <td>8310</td>\n",
       "    </tr>\n",
       "    <tr>\n",
       "      <th>Chairs</th>\n",
       "      <td>1501681.764</td>\n",
       "      <td>140396.267</td>\n",
       "      <td>12336</td>\n",
       "    </tr>\n",
       "    <tr>\n",
       "      <th>Copiers</th>\n",
       "      <td>1509436.273</td>\n",
       "      <td>258567.548</td>\n",
       "      <td>7454</td>\n",
       "    </tr>\n",
       "    <tr>\n",
       "      <th>Envelopes</th>\n",
       "      <td>170904.302</td>\n",
       "      <td>29601.116</td>\n",
       "      <td>8380</td>\n",
       "    </tr>\n",
       "    <tr>\n",
       "      <th>Fasteners</th>\n",
       "      <td>83242.316</td>\n",
       "      <td>11525.424</td>\n",
       "      <td>8390</td>\n",
       "    </tr>\n",
       "    <tr>\n",
       "      <th>Furnishings</th>\n",
       "      <td>385578.256</td>\n",
       "      <td>46967.425</td>\n",
       "      <td>11225</td>\n",
       "    </tr>\n",
       "    <tr>\n",
       "      <th>Labels</th>\n",
       "      <td>73404.030</td>\n",
       "      <td>15010.512</td>\n",
       "      <td>9322</td>\n",
       "    </tr>\n",
       "    <tr>\n",
       "      <th>Machines</th>\n",
       "      <td>779060.067</td>\n",
       "      <td>58867.873</td>\n",
       "      <td>4906</td>\n",
       "    </tr>\n",
       "    <tr>\n",
       "      <th>Paper</th>\n",
       "      <td>244291.719</td>\n",
       "      <td>59207.683</td>\n",
       "      <td>12822</td>\n",
       "    </tr>\n",
       "    <tr>\n",
       "      <th>Phones</th>\n",
       "      <td>1706824.139</td>\n",
       "      <td>216717.006</td>\n",
       "      <td>11870</td>\n",
       "    </tr>\n",
       "    <tr>\n",
       "      <th>Storage</th>\n",
       "      <td>1127085.861</td>\n",
       "      <td>108461.490</td>\n",
       "      <td>16917</td>\n",
       "    </tr>\n",
       "    <tr>\n",
       "      <th>Supplies</th>\n",
       "      <td>243074.221</td>\n",
       "      <td>22583.263</td>\n",
       "      <td>8543</td>\n",
       "    </tr>\n",
       "    <tr>\n",
       "      <th>Tables</th>\n",
       "      <td>757041.924</td>\n",
       "      <td>-64083.389</td>\n",
       "      <td>3083</td>\n",
       "    </tr>\n",
       "  </tbody>\n",
       "</table>\n",
       "</div>"
      ],
      "text/plain": [
       "                   Sales     Profit  Quantity\n",
       "Sub-Category                                 \n",
       "Accessories   749237.019 129626.306     10946\n",
       "Appliances   1011064.305 141680.589      6078\n",
       "Art           372091.966  57953.911     16301\n",
       "Binders       461911.506  72449.846     21429\n",
       "Bookcases    1466572.242 161924.419      8310\n",
       "Chairs       1501681.764 140396.267     12336\n",
       "Copiers      1509436.273 258567.548      7454\n",
       "Envelopes     170904.302  29601.116      8380\n",
       "Fasteners      83242.316  11525.424      8390\n",
       "Furnishings   385578.256  46967.425     11225\n",
       "Labels         73404.030  15010.512      9322\n",
       "Machines      779060.067  58867.873      4906\n",
       "Paper         244291.719  59207.683     12822\n",
       "Phones       1706824.139 216717.006     11870\n",
       "Storage      1127085.861 108461.490     16917\n",
       "Supplies      243074.221  22583.263      8543\n",
       "Tables        757041.924 -64083.389      3083"
      ]
     },
     "execution_count": 77,
     "metadata": {},
     "output_type": "execute_result"
    }
   ],
   "source": [
    "# Grouping the data \n",
    "df.groupby('Sub-Category')[['Sales','Profit','Quantity']].sum()"
   ]
  },
  {
   "cell_type": "markdown",
   "id": "5b76d65d-5cf2-4ddd-be62-f62a7dc30246",
   "metadata": {},
   "source": [
    "# Show the List of Top Performing Customer who making More profit"
   ]
  },
  {
   "cell_type": "code",
   "execution_count": 78,
   "id": "074abf99-08f9-407e-9faa-fe1e35e8055f",
   "metadata": {},
   "outputs": [
    {
     "data": {
      "text/plain": [
       "Index(['Order Date', 'Ship Date', 'Ship Mode', 'Customer Name', 'Segment',\n",
       "       'City', 'State', 'Country', 'Market', 'Region', 'Product ID',\n",
       "       'Category', 'Sub-Category', 'Product Name', 'Sales', 'Quantity',\n",
       "       'Discount', 'Profit', 'Shipping Cost', 'Order Priority', 'Order_Mnth',\n",
       "       'Order_day'],\n",
       "      dtype='object')"
      ]
     },
     "execution_count": 78,
     "metadata": {},
     "output_type": "execute_result"
    }
   ],
   "source": [
    "df.columns"
   ]
  },
  {
   "cell_type": "code",
   "execution_count": 79,
   "id": "5e54a569-12cd-412f-8e85-df6abfd9a438",
   "metadata": {},
   "outputs": [
    {
     "data": {
      "text/plain": [
       "Customer Name\n",
       "Tamara Chand      8672.899\n",
       "Raymond Buch      8453.050\n",
       "Sanjit Chand      8205.380\n",
       "Hunter Lopez      7816.568\n",
       "Bill Eplett       7410.005\n",
       "Harry Marie       6958.286\n",
       "Susan Pistek      6484.407\n",
       "Mike Gockenbach   6458.676\n",
       "Adrian Barton     6417.284\n",
       "Tom Ashbrook      6311.979\n",
       "Name: Profit, dtype: float64"
      ]
     },
     "execution_count": 79,
     "metadata": {},
     "output_type": "execute_result"
    }
   ],
   "source": [
    "top_customer = df.groupby('Customer Name')['Profit'].sum().sort_values(ascending= False).head(10)\n",
    "\n",
    "# show Result\n",
    "top_customer\n"
   ]
  },
  {
   "cell_type": "markdown",
   "id": "88e6cf25-d50f-454d-b894-e1eba981c3cc",
   "metadata": {},
   "source": [
    "# Show Yearly Sales Profit & Total Sold Qty"
   ]
  },
  {
   "cell_type": "code",
   "execution_count": 80,
   "id": "2f96e04d-4657-451c-905d-945d6855b0cf",
   "metadata": {},
   "outputs": [
    {
     "data": {
      "text/plain": [
       "Index(['Order Date', 'Ship Date', 'Ship Mode', 'Customer Name', 'Segment',\n",
       "       'City', 'State', 'Country', 'Market', 'Region', 'Product ID',\n",
       "       'Category', 'Sub-Category', 'Product Name', 'Sales', 'Quantity',\n",
       "       'Discount', 'Profit', 'Shipping Cost', 'Order Priority', 'Order_Mnth',\n",
       "       'Order_day'],\n",
       "      dtype='object')"
      ]
     },
     "execution_count": 80,
     "metadata": {},
     "output_type": "execute_result"
    }
   ],
   "source": [
    "df.columns"
   ]
  },
  {
   "cell_type": "code",
   "execution_count": 86,
   "id": "adfa9544-d33f-4e74-9e9b-a6b41625c3ee",
   "metadata": {},
   "outputs": [
    {
     "name": "stdout",
     "output_type": "stream",
     "text": [
      "column created\n"
     ]
    }
   ],
   "source": [
    "# Creating Year column\n",
    "\n",
    "\n",
    "df['Order_Year'] =  pd.DatetimeIndex(df['Order Date']).year\n",
    "print('column created')"
   ]
  },
  {
   "cell_type": "code",
   "execution_count": 87,
   "id": "8e4da9b8-27b6-495c-9214-16b07983f8ce",
   "metadata": {},
   "outputs": [
    {
     "data": {
      "text/plain": [
       "Index(['Order Date', 'Ship Date', 'Ship Mode', 'Customer Name', 'Segment',\n",
       "       'City', 'State', 'Country', 'Market', 'Region', 'Product ID',\n",
       "       'Category', 'Sub-Category', 'Product Name', 'Sales', 'Quantity',\n",
       "       'Discount', 'Profit', 'Shipping Cost', 'Order Priority', 'Order_Mnth',\n",
       "       'Order_day', 'Order_Year'],\n",
       "      dtype='object')"
      ]
     },
     "execution_count": 87,
     "metadata": {},
     "output_type": "execute_result"
    }
   ],
   "source": [
    "df.columns"
   ]
  },
  {
   "cell_type": "code",
   "execution_count": 89,
   "id": "9b0ebe71-d50b-436e-914b-977166fac529",
   "metadata": {},
   "outputs": [
    {
     "data": {
      "text/html": [
       "<div>\n",
       "<style scoped>\n",
       "    .dataframe tbody tr th:only-of-type {\n",
       "        vertical-align: middle;\n",
       "    }\n",
       "\n",
       "    .dataframe tbody tr th {\n",
       "        vertical-align: top;\n",
       "    }\n",
       "\n",
       "    .dataframe thead th {\n",
       "        text-align: right;\n",
       "    }\n",
       "</style>\n",
       "<table border=\"1\" class=\"dataframe\">\n",
       "  <thead>\n",
       "    <tr style=\"text-align: right;\">\n",
       "      <th></th>\n",
       "      <th>Sales</th>\n",
       "      <th>Profit</th>\n",
       "      <th>Quantity</th>\n",
       "    </tr>\n",
       "    <tr>\n",
       "      <th>Order_Year</th>\n",
       "      <th></th>\n",
       "      <th></th>\n",
       "      <th></th>\n",
       "    </tr>\n",
       "  </thead>\n",
       "  <tbody>\n",
       "    <tr>\n",
       "      <th>2011</th>\n",
       "      <td>2259450.896</td>\n",
       "      <td>248940.812</td>\n",
       "      <td>31443</td>\n",
       "    </tr>\n",
       "    <tr>\n",
       "      <th>2012</th>\n",
       "      <td>2677438.694</td>\n",
       "      <td>307415.279</td>\n",
       "      <td>38111</td>\n",
       "    </tr>\n",
       "    <tr>\n",
       "      <th>2013</th>\n",
       "      <td>3405746.449</td>\n",
       "      <td>406935.230</td>\n",
       "      <td>48136</td>\n",
       "    </tr>\n",
       "    <tr>\n",
       "      <th>2014</th>\n",
       "      <td>4299865.871</td>\n",
       "      <td>504165.970</td>\n",
       "      <td>60622</td>\n",
       "    </tr>\n",
       "  </tbody>\n",
       "</table>\n",
       "</div>"
      ],
      "text/plain": [
       "                 Sales     Profit  Quantity\n",
       "Order_Year                                 \n",
       "2011       2259450.896 248940.812     31443\n",
       "2012       2677438.694 307415.279     38111\n",
       "2013       3405746.449 406935.230     48136\n",
       "2014       4299865.871 504165.970     60622"
      ]
     },
     "execution_count": 89,
     "metadata": {},
     "output_type": "execute_result"
    }
   ],
   "source": [
    "yearly_report = df.groupby('Order_Year')[['Sales','Profit','Quantity']].sum()\n",
    "\n",
    "# show result\n",
    "yearly_report"
   ]
  },
  {
   "cell_type": "code",
   "execution_count": null,
   "id": "41c4e7da-24ff-4039-ae3b-8836804d6562",
   "metadata": {},
   "outputs": [],
   "source": []
  }
 ],
 "metadata": {
  "kernelspec": {
   "display_name": "Python 3 (ipykernel)",
   "language": "python",
   "name": "python3"
  },
  "language_info": {
   "codemirror_mode": {
    "name": "ipython",
    "version": 3
   },
   "file_extension": ".py",
   "mimetype": "text/x-python",
   "name": "python",
   "nbconvert_exporter": "python",
   "pygments_lexer": "ipython3",
   "version": "3.11.7"
  }
 },
 "nbformat": 4,
 "nbformat_minor": 5
}
